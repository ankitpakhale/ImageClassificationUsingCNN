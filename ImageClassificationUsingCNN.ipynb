{
 "cells": [
  {
   "cell_type": "markdown",
   "id": "0443136e",
   "metadata": {},
   "source": [
    "## <font color='#008000'>Required imports</font> "
   ]
  },
  {
   "cell_type": "code",
   "execution_count": 1,
   "id": "9ac47364",
   "metadata": {},
   "outputs": [
    {
     "name": "stderr",
     "output_type": "stream",
     "text": [
      "2022-08-26 17:56:42.928303: W tensorflow/stream_executor/platform/default/dso_loader.cc:64] Could not load dynamic library 'libcudart.so.11.0'; dlerror: libcudart.so.11.0: cannot open shared object file: No such file or directory\n",
      "2022-08-26 17:56:42.928322: I tensorflow/stream_executor/cuda/cudart_stub.cc:29] Ignore above cudart dlerror if you do not have a GPU set up on your machine.\n"
     ]
    }
   ],
   "source": [
    "import tensorflow as tf\n",
    "from tensorflow.keras import datasets, layers, models\n",
    "import matplotlib.pyplot as plt\n",
    "import numpy as np\n",
    "import random\n",
    "\n",
    "import pickle"
   ]
  },
  {
   "cell_type": "markdown",
   "id": "d99efcc1",
   "metadata": {},
   "source": [
    "## Load the dataset "
   ]
  },
  {
   "cell_type": "markdown",
   "id": "6eeaa22d",
   "metadata": {},
   "source": [
    "X = img, y = label"
   ]
  },
  {
   "cell_type": "code",
   "execution_count": 2,
   "id": "c8b5e297",
   "metadata": {},
   "outputs": [],
   "source": [
    "(train_img, train_label), (test_img, test_label) = datasets.cifar10.load_data()"
   ]
  },
  {
   "cell_type": "code",
   "execution_count": 3,
   "id": "d8878c65",
   "metadata": {},
   "outputs": [
    {
     "data": {
      "text/plain": [
       "(50000, 32, 32, 3)"
      ]
     },
     "execution_count": 3,
     "metadata": {},
     "output_type": "execute_result"
    }
   ],
   "source": [
    "train_img.shape"
   ]
  },
  {
   "cell_type": "code",
   "execution_count": 4,
   "id": "435c203b",
   "metadata": {},
   "outputs": [
    {
     "data": {
      "text/plain": [
       "(10000, 32, 32, 3)"
      ]
     },
     "execution_count": 4,
     "metadata": {},
     "output_type": "execute_result"
    }
   ],
   "source": [
    "test_img.shape"
   ]
  },
  {
   "cell_type": "markdown",
   "id": "20890924",
   "metadata": {},
   "source": [
    "Here we see there are 50000 training images and 10000 test images"
   ]
  },
  {
   "cell_type": "markdown",
   "id": "c12a6ff4",
   "metadata": {},
   "source": [
    "  "
   ]
  },
  {
   "cell_type": "markdown",
   "id": "f48aafd0",
   "metadata": {},
   "source": [
    " "
   ]
  },
  {
   "cell_type": "code",
   "execution_count": 5,
   "id": "1ba1a17f",
   "metadata": {},
   "outputs": [
    {
     "data": {
      "text/plain": [
       "(50000, 1)"
      ]
     },
     "execution_count": 5,
     "metadata": {},
     "output_type": "execute_result"
    }
   ],
   "source": [
    "train_label.shape"
   ]
  },
  {
   "cell_type": "code",
   "execution_count": 6,
   "id": "d46de16a",
   "metadata": {},
   "outputs": [
    {
     "data": {
      "text/plain": [
       "array([[6],\n",
       "       [9],\n",
       "       [9],\n",
       "       [4],\n",
       "       [1]], dtype=uint8)"
      ]
     },
     "execution_count": 6,
     "metadata": {},
     "output_type": "execute_result"
    }
   ],
   "source": [
    "train_label[:5]"
   ]
  },
  {
   "cell_type": "markdown",
   "id": "a1268615",
   "metadata": {},
   "source": [
    "train_label is a 2D array, for our classification having 1D array is good enough. so we will convert this to now 1D array"
   ]
  },
  {
   "cell_type": "code",
   "execution_count": 7,
   "id": "1366bf38",
   "metadata": {},
   "outputs": [
    {
     "data": {
      "text/plain": [
       "array([6, 9, 9, 4, 1], dtype=uint8)"
      ]
     },
     "execution_count": 7,
     "metadata": {},
     "output_type": "execute_result"
    }
   ],
   "source": [
    "train_label = train_label.reshape(-1)\n",
    "train_label[:5]"
   ]
  },
  {
   "cell_type": "code",
   "execution_count": 8,
   "id": "3d21313e",
   "metadata": {},
   "outputs": [],
   "source": [
    "classes = [\"airplane\",\"automobile\",\"bird\",\"cat\",\"deer\",\"dog\",\"frog\",\"horse\",\"ship\",\"truck\"]"
   ]
  },
  {
   "cell_type": "markdown",
   "id": "6ae7e049",
   "metadata": {},
   "source": [
    "## Plotting some images to see what they are "
   ]
  },
  {
   "cell_type": "code",
   "execution_count": 9,
   "id": "6462caa0",
   "metadata": {},
   "outputs": [],
   "source": [
    "def plot_sample(img, label, index):\n",
    "    plt.figure(figsize = (15, 2))\n",
    "    plt.imshow(img[index])\n",
    "    plt.xlabel(classes[label[index]])"
   ]
  },
  {
   "cell_type": "code",
   "execution_count": 10,
   "id": "8c9d84c7",
   "metadata": {},
   "outputs": [
    {
     "data": {
      "image/png": "[encoded data removed]",
      "text/plain": [
       "<Figure size 1080x144 with 1 Axes>"
      ]
     },
     "metadata": {
      "needs_background": "light"
     },
     "output_type": "display_data"
    }
   ],
   "source": [
    "plot_sample(train_img, train_label, 0)"
   ]
  },
  {
   "cell_type": "code",
   "execution_count": 11,
   "id": "ebdfc85f",
   "metadata": {},
   "outputs": [
    {
     "data": {
      "image/png": "[encoded data removed]",
      "text/plain": [
       "<Figure size 1080x144 with 1 Axes>"
      ]
     },
     "metadata": {
      "needs_background": "light"
     },
     "output_type": "display_data"
    }
   ],
   "source": [
    "plot_sample(train_img, train_label, 1)"
   ]
  },
  {
   "cell_type": "markdown",
   "id": "f5b5f3a6",
   "metadata": {},
   "source": [
    "Normalize the images to a number from 0 to 1. Image has 3 channels (R,G,B) and each value in the channel can range from 0 to 255. Hence to normalize in 0-->1 range, we need to divide it by 255"
   ]
  },
  {
   "cell_type": "markdown",
   "id": "6d7a864b",
   "metadata": {},
   "source": [
    "## Normalize the training data"
   ]
  },
  {
   "cell_type": "code",
   "execution_count": 12,
   "id": "bfa344a2",
   "metadata": {},
   "outputs": [],
   "source": [
    "train_img = train_img / 255\n",
    "test_img = test_img /255"
   ]
  },
  {
   "cell_type": "markdown",
   "id": "8f470d0b",
   "metadata": {},
   "source": [
    "# Here we will perform classification with ANN and CNN, to see the difference in accuracy."
   ]
  },
  {
   "cell_type": "markdown",
   "id": "0b56e737",
   "metadata": {},
   "source": [
    "### Building Artificial Neural Network for image classification"
   ]
  },
  {
   "cell_type": "code",
   "execution_count": 13,
   "id": "1a04ff03",
   "metadata": {},
   "outputs": [],
   "source": [
    "# ann = models.Sequential([\n",
    "#         layers.Flatten(input_shape=(32,32,3)),\n",
    "#         layers.Dense(3000, activation='relu'),\n",
    "#         layers.Dense(1000, activation='relu'),\n",
    "#         layers.Dense(10, activation='softmax')    \n",
    "# ])"
   ]
  },
  {
   "cell_type": "markdown",
   "id": "ebb0b4d4",
   "metadata": {},
   "source": [
    "## Compiling Artificial Neural Network"
   ]
  },
  {
   "cell_type": "code",
   "execution_count": 14,
   "id": "30b6f2b9",
   "metadata": {},
   "outputs": [],
   "source": [
    "# ann.compile(optimizer = 'SGD',\n",
    "#            loss = 'sparse_categorical_crossentropy',\n",
    "#             metrics = ['accuracy'])"
   ]
  },
  {
   "cell_type": "markdown",
   "id": "89f27d49",
   "metadata": {},
   "source": [
    "## Training Artificial Neural Network  "
   ]
  },
  {
   "cell_type": "code",
   "execution_count": 15,
   "id": "78d5bf95",
   "metadata": {},
   "outputs": [],
   "source": [
    "# ann.fit(train_img, train_label, epochs = 3)"
   ]
  },
  {
   "cell_type": "markdown",
   "id": "53847609",
   "metadata": {},
   "source": [
    "You can see that at the end of 5 epochs, accuracy is at around %48"
   ]
  },
  {
   "cell_type": "code",
   "execution_count": 16,
   "id": "12f1a13f",
   "metadata": {},
   "outputs": [],
   "source": [
    "# from sklearn.metrics import confusion_matrix , classification_report\n",
    "# import numpy as np\n",
    "\n",
    "# pred_label = ann.predict(test_img)\n",
    "# pred_label_classes = [np.argmax(element) for element in pred_label]\n",
    "\n",
    "# print(\"Classification Report: \\n\", classification_report(test_label, pred_label_classes))"
   ]
  },
  {
   "cell_type": "markdown",
   "id": "55a9ad76",
   "metadata": {},
   "source": [
    "### Building Convolutional neural network for image classification"
   ]
  },
  {
   "cell_type": "code",
   "execution_count": 17,
   "id": "905360c9",
   "metadata": {},
   "outputs": [
    {
     "name": "stderr",
     "output_type": "stream",
     "text": [
      "2022-08-26 17:56:45.565977: W tensorflow/stream_executor/platform/default/dso_loader.cc:64] Could not load dynamic library 'libcuda.so.1'; dlerror: libcuda.so.1: cannot open shared object file: No such file or directory\n",
      "2022-08-26 17:56:45.565999: W tensorflow/stream_executor/cuda/cuda_driver.cc:269] failed call to cuInit: UNKNOWN ERROR (303)\n",
      "2022-08-26 17:56:45.566012: I tensorflow/stream_executor/cuda/cuda_diagnostics.cc:156] kernel driver does not appear to be running on this host (user-H410M-H-V3): /proc/driver/nvidia/version does not exist\n",
      "2022-08-26 17:56:45.566266: I tensorflow/core/platform/cpu_feature_guard.cc:193] This TensorFlow binary is optimized with oneAPI Deep Neural Network Library (oneDNN) to use the following CPU instructions in performance-critical operations:  AVX2 FMA\n",
      "To enable them in other operations, rebuild TensorFlow with the appropriate compiler flags.\n"
     ]
    }
   ],
   "source": [
    "cnn = models.Sequential([\n",
    "    \n",
    "    # This is the first convolutional layer with max pooling, we can use as many as possible according to need, also we can use average pooling   \n",
    "    layers.Conv2D(filters=32, kernel_size=(3, 3), activation='relu', input_shape=(32, 32, 3)),\n",
    "    layers.MaxPooling2D((2, 2)),    \n",
    "    \n",
    "    # This is the second convolutional layer with max pooling\n",
    "    layers.Conv2D(filters=32, kernel_size=(3, 3), activation='relu'),\n",
    "    layers.MaxPooling2D((2, 2)), \n",
    "        \n",
    "    # This is the third convolutional layer with max pooling\n",
    "    layers.Conv2D(filters=32, kernel_size=(3, 3), activation='relu'),\n",
    "    layers.MaxPooling2D((2, 2)),\n",
    "    \n",
    "    layers.Flatten(),\n",
    "    # Here we don't need to make extra dense layer because we have used cnn above, it will optimize it automatically     \n",
    "    layers.Dense(64, activation='relu'),\n",
    "    layers.Dense(10, activation='softmax')    \n",
    "\n",
    "])"
   ]
  },
  {
   "cell_type": "markdown",
   "id": "4ddb7540",
   "metadata": {},
   "source": [
    "## Compiling Convolutional Neural Network "
   ]
  },
  {
   "cell_type": "code",
   "execution_count": 18,
   "id": "8b6aebf0",
   "metadata": {},
   "outputs": [],
   "source": [
    "cnn.compile(optimizer='adam',\n",
    "           loss='sparse_categorical_crossentropy',\n",
    "           metrics=['accuracy'])"
   ]
  },
  {
   "cell_type": "markdown",
   "id": "ccee37ac",
   "metadata": {},
   "source": [
    "## Training Convolutional Neural Network "
   ]
  },
  {
   "cell_type": "code",
   "execution_count": 19,
   "id": "056fdbf2",
   "metadata": {},
   "outputs": [
    {
     "name": "stdout",
     "output_type": "stream",
     "text": [
      "Epoch 1/750\n"
     ]
    },
    {
     "name": "stderr",
     "output_type": "stream",
     "text": [
      "2022-08-26 17:56:46.022440: W tensorflow/core/framework/cpu_allocator_impl.cc:82] Allocation of 614400000 exceeds 10% of free system memory.\n"
     ]
    },
    {
     "name": "stdout",
     "output_type": "stream",
     "text": [
      "1563/1563 [==============================] - 17s 11ms/step - loss: 1.6252 - accuracy: 0.4032\n",
      "Epoch 2/750\n",
      "1563/1563 [==============================] - 16s 10ms/step - loss: 1.3074 - accuracy: 0.5292\n",
      "Epoch 3/750\n",
      "1563/1563 [==============================] - 17s 11ms/step - loss: 1.1761 - accuracy: 0.5834\n",
      "Epoch 4/750\n",
      "1563/1563 [==============================] - 17s 11ms/step - loss: 1.0836 - accuracy: 0.6199\n",
      "Epoch 5/750\n",
      "1563/1563 [==============================] - 16s 10ms/step - loss: 1.0144 - accuracy: 0.6432\n",
      "Epoch 6/750\n",
      "1563/1563 [==============================] - 16s 10ms/step - loss: 0.9684 - accuracy: 0.6621\n",
      "Epoch 7/750\n",
      "1563/1563 [==============================] - 17s 11ms/step - loss: 0.9208 - accuracy: 0.6774\n",
      "Epoch 8/750\n",
      "1563/1563 [==============================] - 18s 11ms/step - loss: 0.8930 - accuracy: 0.6880\n",
      "Epoch 9/750\n",
      "1563/1563 [==============================] - 17s 11ms/step - loss: 0.8553 - accuracy: 0.7001\n",
      "Epoch 10/750\n",
      "1563/1563 [==============================] - 17s 11ms/step - loss: 0.8298 - accuracy: 0.7096\n",
      "Epoch 11/750\n",
      "1563/1563 [==============================] - 17s 11ms/step - loss: 0.8028 - accuracy: 0.7197\n",
      "Epoch 12/750\n",
      "1563/1563 [==============================] - 16s 10ms/step - loss: 0.7808 - accuracy: 0.7256\n",
      "Epoch 13/750\n",
      "1563/1563 [==============================] - 16s 10ms/step - loss: 0.7615 - accuracy: 0.7335\n",
      "Epoch 14/750\n",
      "1563/1563 [==============================] - 16s 10ms/step - loss: 0.7452 - accuracy: 0.7383\n",
      "Epoch 15/750\n",
      "1563/1563 [==============================] - 17s 11ms/step - loss: 0.7232 - accuracy: 0.7481\n",
      "Epoch 16/750\n",
      "1563/1563 [==============================] - 17s 11ms/step - loss: 0.7109 - accuracy: 0.7507\n",
      "Epoch 17/750\n",
      "1563/1563 [==============================] - 17s 11ms/step - loss: 0.6990 - accuracy: 0.7554\n",
      "Epoch 18/750\n",
      "1563/1563 [==============================] - 17s 11ms/step - loss: 0.6864 - accuracy: 0.7576\n",
      "Epoch 19/750\n",
      "1563/1563 [==============================] - 17s 11ms/step - loss: 0.6720 - accuracy: 0.7638\n",
      "Epoch 20/750\n",
      "1563/1563 [==============================] - 17s 11ms/step - loss: 0.6636 - accuracy: 0.7678\n",
      "Epoch 21/750\n",
      "1563/1563 [==============================] - 17s 11ms/step - loss: 0.6487 - accuracy: 0.7731\n",
      "Epoch 22/750\n",
      "1563/1563 [==============================] - 17s 11ms/step - loss: 0.6398 - accuracy: 0.7754\n",
      "Epoch 23/750\n",
      "1563/1563 [==============================] - 17s 11ms/step - loss: 0.6303 - accuracy: 0.7757\n",
      "Epoch 24/750\n",
      "1563/1563 [==============================] - 17s 11ms/step - loss: 0.6205 - accuracy: 0.7813\n",
      "Epoch 25/750\n",
      "1563/1563 [==============================] - 17s 11ms/step - loss: 0.6104 - accuracy: 0.7834\n",
      "Epoch 26/750\n",
      "1563/1563 [==============================] - 17s 11ms/step - loss: 0.6018 - accuracy: 0.7866\n",
      "Epoch 27/750\n",
      "1563/1563 [==============================] - 17s 11ms/step - loss: 0.5919 - accuracy: 0.7894\n",
      "Epoch 28/750\n",
      "1563/1563 [==============================] - 17s 11ms/step - loss: 0.5871 - accuracy: 0.7911\n",
      "Epoch 29/750\n",
      "1563/1563 [==============================] - 17s 11ms/step - loss: 0.5826 - accuracy: 0.7934\n",
      "Epoch 30/750\n",
      "1563/1563 [==============================] - 17s 11ms/step - loss: 0.5728 - accuracy: 0.7954\n",
      "Epoch 31/750\n",
      "1563/1563 [==============================] - 17s 11ms/step - loss: 0.5691 - accuracy: 0.7964\n",
      "Epoch 32/750\n",
      "1563/1563 [==============================] - 17s 11ms/step - loss: 0.5583 - accuracy: 0.8019\n",
      "Epoch 33/750\n",
      "1563/1563 [==============================] - 16s 10ms/step - loss: 0.5514 - accuracy: 0.8035\n",
      "Epoch 34/750\n",
      "1563/1563 [==============================] - 15s 10ms/step - loss: 0.5463 - accuracy: 0.8061\n",
      "Epoch 35/750\n",
      "1563/1563 [==============================] - 15s 10ms/step - loss: 0.5348 - accuracy: 0.8099\n",
      "Epoch 36/750\n",
      "1563/1563 [==============================] - 15s 10ms/step - loss: 0.5298 - accuracy: 0.8126\n",
      "Epoch 37/750\n",
      "1563/1563 [==============================] - 15s 10ms/step - loss: 0.5264 - accuracy: 0.8118\n",
      "Epoch 38/750\n",
      "1563/1563 [==============================] - 15s 10ms/step - loss: 0.5177 - accuracy: 0.8144\n",
      "Epoch 39/750\n",
      "1563/1563 [==============================] - 15s 10ms/step - loss: 0.5091 - accuracy: 0.8183\n",
      "Epoch 40/750\n",
      "1563/1563 [==============================] - 15s 10ms/step - loss: 0.5060 - accuracy: 0.8191\n",
      "Epoch 41/750\n",
      "1563/1563 [==============================] - 15s 10ms/step - loss: 0.4978 - accuracy: 0.8227\n",
      "Epoch 42/750\n",
      "1563/1563 [==============================] - 15s 10ms/step - loss: 0.4966 - accuracy: 0.8211\n",
      "Epoch 43/750\n",
      "1563/1563 [==============================] - 15s 10ms/step - loss: 0.4891 - accuracy: 0.8247\n",
      "Epoch 44/750\n",
      "1563/1563 [==============================] - 15s 10ms/step - loss: 0.4801 - accuracy: 0.8274\n",
      "Epoch 45/750\n",
      "1563/1563 [==============================] - 15s 10ms/step - loss: 0.4766 - accuracy: 0.8294\n",
      "Epoch 46/750\n",
      "1563/1563 [==============================] - 15s 10ms/step - loss: 0.4755 - accuracy: 0.8288\n",
      "Epoch 47/750\n",
      "1563/1563 [==============================] - 15s 10ms/step - loss: 0.4734 - accuracy: 0.8281\n",
      "Epoch 48/750\n",
      "1563/1563 [==============================] - 15s 10ms/step - loss: 0.4632 - accuracy: 0.8332\n",
      "Epoch 49/750\n",
      "1563/1563 [==============================] - 15s 10ms/step - loss: 0.4600 - accuracy: 0.8361\n",
      "Epoch 50/750\n",
      "1563/1563 [==============================] - 15s 10ms/step - loss: 0.4547 - accuracy: 0.8376\n",
      "Epoch 51/750\n",
      "1563/1563 [==============================] - 15s 9ms/step - loss: 0.4510 - accuracy: 0.8373\n",
      "Epoch 52/750\n",
      "1563/1563 [==============================] - 15s 9ms/step - loss: 0.4469 - accuracy: 0.8396\n",
      "Epoch 53/750\n",
      "1563/1563 [==============================] - 15s 9ms/step - loss: 0.4440 - accuracy: 0.8396\n",
      "Epoch 54/750\n",
      "1563/1563 [==============================] - 15s 9ms/step - loss: 0.4294 - accuracy: 0.8467\n",
      "Epoch 55/750\n",
      "1563/1563 [==============================] - 15s 9ms/step - loss: 0.4366 - accuracy: 0.8420\n",
      "Epoch 56/750\n",
      "1563/1563 [==============================] - 15s 9ms/step - loss: 0.4297 - accuracy: 0.8458\n",
      "Epoch 57/750\n",
      "1563/1563 [==============================] - 15s 9ms/step - loss: 0.4263 - accuracy: 0.8451\n",
      "Epoch 58/750\n",
      "1563/1563 [==============================] - 15s 9ms/step - loss: 0.4269 - accuracy: 0.8462\n",
      "Epoch 59/750\n",
      "1563/1563 [==============================] - 15s 9ms/step - loss: 0.4170 - accuracy: 0.8488\n",
      "Epoch 60/750\n",
      "1563/1563 [==============================] - 15s 9ms/step - loss: 0.4132 - accuracy: 0.8506\n",
      "Epoch 61/750\n",
      "1563/1563 [==============================] - 15s 9ms/step - loss: 0.4125 - accuracy: 0.8506\n",
      "Epoch 62/750\n",
      "1563/1563 [==============================] - 15s 9ms/step - loss: 0.4084 - accuracy: 0.8514\n",
      "Epoch 63/750\n",
      "1563/1563 [==============================] - 15s 9ms/step - loss: 0.4038 - accuracy: 0.8530\n",
      "Epoch 64/750\n",
      "1563/1563 [==============================] - 15s 9ms/step - loss: 0.4035 - accuracy: 0.8548\n",
      "Epoch 65/750\n",
      "1563/1563 [==============================] - 15s 9ms/step - loss: 0.3988 - accuracy: 0.8552\n",
      "Epoch 66/750\n",
      "1563/1563 [==============================] - 15s 9ms/step - loss: 0.3975 - accuracy: 0.8547\n",
      "Epoch 67/750\n",
      "1563/1563 [==============================] - 15s 9ms/step - loss: 0.3916 - accuracy: 0.8571\n",
      "Epoch 68/750\n",
      "1563/1563 [==============================] - 15s 9ms/step - loss: 0.3921 - accuracy: 0.8573\n",
      "Epoch 69/750\n",
      "1563/1563 [==============================] - 15s 9ms/step - loss: 0.3900 - accuracy: 0.8584\n",
      "Epoch 70/750\n",
      "1563/1563 [==============================] - 15s 9ms/step - loss: 0.3882 - accuracy: 0.8572\n",
      "Epoch 71/750\n",
      "1563/1563 [==============================] - 15s 9ms/step - loss: 0.3863 - accuracy: 0.8589\n",
      "Epoch 72/750\n",
      "1563/1563 [==============================] - 15s 9ms/step - loss: 0.3820 - accuracy: 0.8604\n",
      "Epoch 73/750\n",
      "1563/1563 [==============================] - 15s 9ms/step - loss: 0.3769 - accuracy: 0.8620\n",
      "Epoch 74/750\n",
      "1563/1563 [==============================] - 15s 9ms/step - loss: 0.3793 - accuracy: 0.8606\n",
      "Epoch 75/750\n",
      "1563/1563 [==============================] - 15s 9ms/step - loss: 0.3744 - accuracy: 0.8638\n",
      "Epoch 76/750\n",
      "1563/1563 [==============================] - 15s 9ms/step - loss: 0.3695 - accuracy: 0.8648\n",
      "Epoch 77/750\n",
      "1563/1563 [==============================] - 15s 9ms/step - loss: 0.3700 - accuracy: 0.8652\n",
      "Epoch 78/750\n"
     ]
    },
    {
     "name": "stdout",
     "output_type": "stream",
     "text": [
      "1563/1563 [==============================] - 15s 9ms/step - loss: 0.3668 - accuracy: 0.8663\n",
      "Epoch 79/750\n",
      "1563/1563 [==============================] - 15s 9ms/step - loss: 0.3634 - accuracy: 0.8660\n",
      "Epoch 80/750\n",
      "1563/1563 [==============================] - 15s 9ms/step - loss: 0.3592 - accuracy: 0.8696\n",
      "Epoch 81/750\n",
      "1563/1563 [==============================] - 15s 9ms/step - loss: 0.3613 - accuracy: 0.8674\n",
      "Epoch 82/750\n",
      "1563/1563 [==============================] - 15s 9ms/step - loss: 0.3566 - accuracy: 0.8692\n",
      "Epoch 83/750\n",
      "1563/1563 [==============================] - 15s 9ms/step - loss: 0.3575 - accuracy: 0.8700\n",
      "Epoch 84/750\n",
      "1563/1563 [==============================] - 15s 9ms/step - loss: 0.3568 - accuracy: 0.8693\n",
      "Epoch 85/750\n",
      "1563/1563 [==============================] - 15s 9ms/step - loss: 0.3521 - accuracy: 0.8714\n",
      "Epoch 86/750\n",
      "1563/1563 [==============================] - 15s 9ms/step - loss: 0.3482 - accuracy: 0.8729\n",
      "Epoch 87/750\n",
      "1563/1563 [==============================] - 15s 9ms/step - loss: 0.3495 - accuracy: 0.8716\n",
      "Epoch 88/750\n",
      "1563/1563 [==============================] - 15s 9ms/step - loss: 0.3483 - accuracy: 0.8720\n",
      "Epoch 89/750\n",
      "1563/1563 [==============================] - 15s 9ms/step - loss: 0.3448 - accuracy: 0.8735\n",
      "Epoch 90/750\n",
      "1563/1563 [==============================] - 15s 9ms/step - loss: 0.3437 - accuracy: 0.8742\n",
      "Epoch 91/750\n",
      "1563/1563 [==============================] - 15s 9ms/step - loss: 0.3385 - accuracy: 0.8759\n",
      "Epoch 92/750\n",
      "1563/1563 [==============================] - 15s 9ms/step - loss: 0.3385 - accuracy: 0.8756\n",
      "Epoch 93/750\n",
      "1563/1563 [==============================] - 15s 9ms/step - loss: 0.3398 - accuracy: 0.8740\n",
      "Epoch 94/750\n",
      "1563/1563 [==============================] - 15s 9ms/step - loss: 0.3321 - accuracy: 0.8781\n",
      "Epoch 95/750\n",
      "1563/1563 [==============================] - 15s 9ms/step - loss: 0.3370 - accuracy: 0.8758\n",
      "Epoch 96/750\n",
      "1563/1563 [==============================] - 15s 9ms/step - loss: 0.3326 - accuracy: 0.8781\n",
      "Epoch 97/750\n",
      "1563/1563 [==============================] - 15s 9ms/step - loss: 0.3270 - accuracy: 0.8791\n",
      "Epoch 98/750\n",
      "1563/1563 [==============================] - 15s 9ms/step - loss: 0.3278 - accuracy: 0.8794\n",
      "Epoch 99/750\n",
      "1563/1563 [==============================] - 15s 9ms/step - loss: 0.3233 - accuracy: 0.8812\n",
      "Epoch 100/750\n",
      "1563/1563 [==============================] - 15s 9ms/step - loss: 0.3272 - accuracy: 0.8798\n",
      "Epoch 101/750\n",
      "1563/1563 [==============================] - 15s 9ms/step - loss: 0.3272 - accuracy: 0.8782\n",
      "Epoch 102/750\n",
      "1563/1563 [==============================] - 15s 9ms/step - loss: 0.3207 - accuracy: 0.8822\n",
      "Epoch 103/750\n",
      "1563/1563 [==============================] - 15s 9ms/step - loss: 0.3208 - accuracy: 0.8821\n",
      "Epoch 104/750\n",
      "1563/1563 [==============================] - 15s 9ms/step - loss: 0.3232 - accuracy: 0.8806\n",
      "Epoch 105/750\n",
      "1563/1563 [==============================] - 15s 9ms/step - loss: 0.3166 - accuracy: 0.8831\n",
      "Epoch 106/750\n",
      "1563/1563 [==============================] - 15s 9ms/step - loss: 0.3146 - accuracy: 0.8838\n",
      "Epoch 107/750\n",
      "1563/1563 [==============================] - 15s 9ms/step - loss: 0.3109 - accuracy: 0.8847\n",
      "Epoch 108/750\n",
      "1563/1563 [==============================] - 15s 9ms/step - loss: 0.3169 - accuracy: 0.8854\n",
      "Epoch 109/750\n",
      "1563/1563 [==============================] - 15s 9ms/step - loss: 0.3114 - accuracy: 0.8849\n",
      "Epoch 110/750\n",
      "1563/1563 [==============================] - 15s 9ms/step - loss: 0.3080 - accuracy: 0.8861\n",
      "Epoch 111/750\n",
      "1563/1563 [==============================] - 15s 9ms/step - loss: 0.3116 - accuracy: 0.8846\n",
      "Epoch 112/750\n",
      "1563/1563 [==============================] - 15s 9ms/step - loss: 0.3005 - accuracy: 0.8895\n",
      "Epoch 113/750\n",
      "1563/1563 [==============================] - 15s 9ms/step - loss: 0.3103 - accuracy: 0.8835\n",
      "Epoch 114/750\n",
      "1563/1563 [==============================] - 15s 9ms/step - loss: 0.3027 - accuracy: 0.8884\n",
      "Epoch 115/750\n",
      "1563/1563 [==============================] - 15s 9ms/step - loss: 0.3019 - accuracy: 0.8888\n",
      "Epoch 116/750\n",
      "1563/1563 [==============================] - 15s 9ms/step - loss: 0.3016 - accuracy: 0.8876\n",
      "Epoch 117/750\n",
      "1563/1563 [==============================] - 15s 9ms/step - loss: 0.2959 - accuracy: 0.8923\n",
      "Epoch 118/750\n",
      "1563/1563 [==============================] - 15s 9ms/step - loss: 0.2975 - accuracy: 0.8910\n",
      "Epoch 119/750\n",
      "1563/1563 [==============================] - 15s 9ms/step - loss: 0.2980 - accuracy: 0.8904\n",
      "Epoch 120/750\n",
      "1563/1563 [==============================] - 15s 9ms/step - loss: 0.2932 - accuracy: 0.8921\n",
      "Epoch 121/750\n",
      "1563/1563 [==============================] - 15s 9ms/step - loss: 0.2957 - accuracy: 0.8912\n",
      "Epoch 122/750\n",
      "1563/1563 [==============================] - 15s 9ms/step - loss: 0.2998 - accuracy: 0.8900\n",
      "Epoch 123/750\n",
      "1563/1563 [==============================] - 15s 9ms/step - loss: 0.2979 - accuracy: 0.8900\n",
      "Epoch 124/750\n",
      "1563/1563 [==============================] - 15s 9ms/step - loss: 0.2881 - accuracy: 0.8946\n",
      "Epoch 125/750\n",
      "1563/1563 [==============================] - 15s 9ms/step - loss: 0.2963 - accuracy: 0.8905\n",
      "Epoch 126/750\n",
      "1563/1563 [==============================] - 15s 9ms/step - loss: 0.2927 - accuracy: 0.8920\n",
      "Epoch 127/750\n",
      "1563/1563 [==============================] - 15s 9ms/step - loss: 0.2867 - accuracy: 0.8948\n",
      "Epoch 128/750\n",
      "1563/1563 [==============================] - 15s 9ms/step - loss: 0.2836 - accuracy: 0.8957\n",
      "Epoch 129/750\n",
      "1563/1563 [==============================] - 15s 9ms/step - loss: 0.2896 - accuracy: 0.8936\n",
      "Epoch 130/750\n",
      "1563/1563 [==============================] - 15s 9ms/step - loss: 0.2875 - accuracy: 0.8938\n",
      "Epoch 131/750\n",
      "1563/1563 [==============================] - 15s 9ms/step - loss: 0.2913 - accuracy: 0.8912\n",
      "Epoch 132/750\n",
      "1563/1563 [==============================] - 15s 9ms/step - loss: 0.2829 - accuracy: 0.8959\n",
      "Epoch 133/750\n",
      "1563/1563 [==============================] - 15s 9ms/step - loss: 0.2792 - accuracy: 0.8970\n",
      "Epoch 134/750\n",
      "1563/1563 [==============================] - 15s 9ms/step - loss: 0.2860 - accuracy: 0.8955\n",
      "Epoch 135/750\n",
      "1563/1563 [==============================] - 15s 9ms/step - loss: 0.2810 - accuracy: 0.8963\n",
      "Epoch 136/750\n",
      "1563/1563 [==============================] - 15s 9ms/step - loss: 0.2819 - accuracy: 0.8955\n",
      "Epoch 137/750\n",
      "1563/1563 [==============================] - 15s 9ms/step - loss: 0.2837 - accuracy: 0.8936\n",
      "Epoch 138/750\n",
      "1563/1563 [==============================] - 15s 9ms/step - loss: 0.2805 - accuracy: 0.8969\n",
      "Epoch 139/750\n",
      "1563/1563 [==============================] - 15s 9ms/step - loss: 0.2775 - accuracy: 0.8974\n",
      "Epoch 140/750\n",
      "1563/1563 [==============================] - 15s 9ms/step - loss: 0.2841 - accuracy: 0.8963\n",
      "Epoch 141/750\n",
      "1563/1563 [==============================] - 15s 9ms/step - loss: 0.2773 - accuracy: 0.8975\n",
      "Epoch 142/750\n",
      "1563/1563 [==============================] - 15s 9ms/step - loss: 0.2745 - accuracy: 0.9003\n",
      "Epoch 143/750\n",
      "1563/1563 [==============================] - 15s 9ms/step - loss: 0.2795 - accuracy: 0.8960\n",
      "Epoch 144/750\n",
      "1563/1563 [==============================] - 15s 9ms/step - loss: 0.2710 - accuracy: 0.9002\n",
      "Epoch 145/750\n",
      "1563/1563 [==============================] - 15s 9ms/step - loss: 0.2766 - accuracy: 0.8985\n",
      "Epoch 146/750\n",
      "1563/1563 [==============================] - 15s 9ms/step - loss: 0.2667 - accuracy: 0.9008\n",
      "Epoch 147/750\n",
      "1563/1563 [==============================] - 15s 9ms/step - loss: 0.2724 - accuracy: 0.8998\n",
      "Epoch 148/750\n",
      "1563/1563 [==============================] - 15s 9ms/step - loss: 0.2729 - accuracy: 0.8998\n",
      "Epoch 149/750\n",
      "1563/1563 [==============================] - 15s 9ms/step - loss: 0.2641 - accuracy: 0.9013\n",
      "Epoch 150/750\n",
      "1563/1563 [==============================] - 15s 9ms/step - loss: 0.2715 - accuracy: 0.8997\n",
      "Epoch 151/750\n",
      "1563/1563 [==============================] - 15s 9ms/step - loss: 0.2697 - accuracy: 0.9020\n",
      "Epoch 152/750\n",
      "1563/1563 [==============================] - 15s 9ms/step - loss: 0.2691 - accuracy: 0.9004\n",
      "Epoch 153/750\n",
      "1563/1563 [==============================] - 15s 9ms/step - loss: 0.2710 - accuracy: 0.8999\n",
      "Epoch 154/750\n",
      "1563/1563 [==============================] - 15s 9ms/step - loss: 0.2634 - accuracy: 0.9032\n",
      "Epoch 155/750\n"
     ]
    },
    {
     "name": "stdout",
     "output_type": "stream",
     "text": [
      "1563/1563 [==============================] - 15s 9ms/step - loss: 0.2614 - accuracy: 0.9031\n",
      "Epoch 156/750\n",
      "1563/1563 [==============================] - 15s 9ms/step - loss: 0.2662 - accuracy: 0.9004\n",
      "Epoch 157/750\n",
      "1563/1563 [==============================] - 15s 9ms/step - loss: 0.2684 - accuracy: 0.9015\n",
      "Epoch 158/750\n",
      "1563/1563 [==============================] - 15s 9ms/step - loss: 0.2659 - accuracy: 0.9024\n",
      "Epoch 159/750\n",
      "1563/1563 [==============================] - 15s 9ms/step - loss: 0.2564 - accuracy: 0.9049\n",
      "Epoch 160/750\n",
      "1563/1563 [==============================] - 15s 9ms/step - loss: 0.2603 - accuracy: 0.9035\n",
      "Epoch 161/750\n",
      "1563/1563 [==============================] - 15s 9ms/step - loss: 0.2639 - accuracy: 0.9021\n",
      "Epoch 162/750\n",
      "1563/1563 [==============================] - 15s 9ms/step - loss: 0.2546 - accuracy: 0.9062\n",
      "Epoch 163/750\n",
      "1563/1563 [==============================] - 15s 9ms/step - loss: 0.2612 - accuracy: 0.9029\n",
      "Epoch 164/750\n",
      "1563/1563 [==============================] - 15s 9ms/step - loss: 0.2587 - accuracy: 0.9045\n",
      "Epoch 165/750\n",
      "1563/1563 [==============================] - 15s 9ms/step - loss: 0.2533 - accuracy: 0.9058\n",
      "Epoch 166/750\n",
      "1563/1563 [==============================] - 15s 9ms/step - loss: 0.2547 - accuracy: 0.9074\n",
      "Epoch 167/750\n",
      "1563/1563 [==============================] - 15s 9ms/step - loss: 0.2615 - accuracy: 0.9040\n",
      "Epoch 168/750\n",
      "1563/1563 [==============================] - 15s 9ms/step - loss: 0.2534 - accuracy: 0.9062\n",
      "Epoch 169/750\n",
      "1563/1563 [==============================] - 15s 9ms/step - loss: 0.2503 - accuracy: 0.9084\n",
      "Epoch 170/750\n",
      "1563/1563 [==============================] - 15s 9ms/step - loss: 0.2543 - accuracy: 0.9076\n",
      "Epoch 171/750\n",
      "1563/1563 [==============================] - 15s 9ms/step - loss: 0.2604 - accuracy: 0.9039\n",
      "Epoch 172/750\n",
      "1563/1563 [==============================] - 15s 9ms/step - loss: 0.2583 - accuracy: 0.9056\n",
      "Epoch 173/750\n",
      "1563/1563 [==============================] - 15s 9ms/step - loss: 0.2464 - accuracy: 0.9083\n",
      "Epoch 174/750\n",
      "1563/1563 [==============================] - 15s 9ms/step - loss: 0.2542 - accuracy: 0.9073\n",
      "Epoch 175/750\n",
      "1563/1563 [==============================] - 15s 9ms/step - loss: 0.2577 - accuracy: 0.9044\n",
      "Epoch 176/750\n",
      "1563/1563 [==============================] - 15s 9ms/step - loss: 0.2455 - accuracy: 0.9080\n",
      "Epoch 177/750\n",
      "1563/1563 [==============================] - 15s 9ms/step - loss: 0.2551 - accuracy: 0.9064\n",
      "Epoch 178/750\n",
      "1563/1563 [==============================] - 15s 9ms/step - loss: 0.2532 - accuracy: 0.9065\n",
      "Epoch 179/750\n",
      "1563/1563 [==============================] - 15s 9ms/step - loss: 0.2499 - accuracy: 0.9069\n",
      "Epoch 180/750\n",
      "1563/1563 [==============================] - 15s 9ms/step - loss: 0.2492 - accuracy: 0.9074\n",
      "Epoch 181/750\n",
      "1563/1563 [==============================] - 15s 9ms/step - loss: 0.2536 - accuracy: 0.9066\n",
      "Epoch 182/750\n",
      "1563/1563 [==============================] - 15s 9ms/step - loss: 0.2503 - accuracy: 0.9065\n",
      "Epoch 183/750\n",
      "1563/1563 [==============================] - 15s 9ms/step - loss: 0.2451 - accuracy: 0.9107\n",
      "Epoch 184/750\n",
      "1563/1563 [==============================] - 15s 9ms/step - loss: 0.2544 - accuracy: 0.9062\n",
      "Epoch 185/750\n",
      "1563/1563 [==============================] - 15s 9ms/step - loss: 0.2484 - accuracy: 0.9092\n",
      "Epoch 186/750\n",
      "1563/1563 [==============================] - 15s 9ms/step - loss: 0.2403 - accuracy: 0.9110\n",
      "Epoch 187/750\n",
      "1563/1563 [==============================] - 15s 9ms/step - loss: 0.2536 - accuracy: 0.9064\n",
      "Epoch 188/750\n",
      "1563/1563 [==============================] - 15s 9ms/step - loss: 0.2391 - accuracy: 0.9115\n",
      "Epoch 189/750\n",
      "1563/1563 [==============================] - 15s 9ms/step - loss: 0.2439 - accuracy: 0.9108\n",
      "Epoch 190/750\n",
      "1563/1563 [==============================] - 15s 9ms/step - loss: 0.2462 - accuracy: 0.9086\n",
      "Epoch 191/750\n",
      "1563/1563 [==============================] - 15s 9ms/step - loss: 0.2459 - accuracy: 0.9088\n",
      "Epoch 192/750\n",
      "1563/1563 [==============================] - 15s 9ms/step - loss: 0.2403 - accuracy: 0.9112\n",
      "Epoch 193/750\n",
      "1563/1563 [==============================] - 15s 9ms/step - loss: 0.2441 - accuracy: 0.9077\n",
      "Epoch 194/750\n",
      "1563/1563 [==============================] - 15s 9ms/step - loss: 0.2432 - accuracy: 0.9106\n",
      "Epoch 195/750\n",
      "1563/1563 [==============================] - 15s 9ms/step - loss: 0.2428 - accuracy: 0.9105\n",
      "Epoch 196/750\n",
      "1563/1563 [==============================] - 15s 9ms/step - loss: 0.2382 - accuracy: 0.9122\n",
      "Epoch 197/750\n",
      "1563/1563 [==============================] - 15s 9ms/step - loss: 0.2402 - accuracy: 0.9117\n",
      "Epoch 198/750\n",
      "1563/1563 [==============================] - 15s 9ms/step - loss: 0.2367 - accuracy: 0.9116\n",
      "Epoch 199/750\n",
      "1563/1563 [==============================] - 15s 9ms/step - loss: 0.2409 - accuracy: 0.9117\n",
      "Epoch 200/750\n",
      "1563/1563 [==============================] - 15s 9ms/step - loss: 0.2358 - accuracy: 0.9121\n",
      "Epoch 201/750\n",
      "1563/1563 [==============================] - 15s 9ms/step - loss: 0.2421 - accuracy: 0.9107\n",
      "Epoch 202/750\n",
      "1563/1563 [==============================] - 15s 9ms/step - loss: 0.2468 - accuracy: 0.9090\n",
      "Epoch 203/750\n",
      "1563/1563 [==============================] - 15s 9ms/step - loss: 0.2358 - accuracy: 0.9122\n",
      "Epoch 204/750\n",
      "1563/1563 [==============================] - 15s 9ms/step - loss: 0.2370 - accuracy: 0.9128\n",
      "Epoch 205/750\n",
      "1563/1563 [==============================] - 15s 9ms/step - loss: 0.2347 - accuracy: 0.9146\n",
      "Epoch 206/750\n",
      "1563/1563 [==============================] - 15s 9ms/step - loss: 0.2391 - accuracy: 0.9119\n",
      "Epoch 207/750\n",
      "1563/1563 [==============================] - 15s 9ms/step - loss: 0.2366 - accuracy: 0.9127\n",
      "Epoch 208/750\n",
      "1563/1563 [==============================] - 15s 9ms/step - loss: 0.2378 - accuracy: 0.9129\n",
      "Epoch 209/750\n",
      "1563/1563 [==============================] - 15s 9ms/step - loss: 0.2374 - accuracy: 0.9122\n",
      "Epoch 210/750\n",
      "1563/1563 [==============================] - 15s 9ms/step - loss: 0.2386 - accuracy: 0.9122\n",
      "Epoch 211/750\n",
      "1563/1563 [==============================] - 15s 9ms/step - loss: 0.2273 - accuracy: 0.9164\n",
      "Epoch 212/750\n",
      "1563/1563 [==============================] - 15s 9ms/step - loss: 0.2406 - accuracy: 0.9134\n",
      "Epoch 213/750\n",
      "1563/1563 [==============================] - 15s 9ms/step - loss: 0.2301 - accuracy: 0.9155\n",
      "Epoch 214/750\n",
      "1563/1563 [==============================] - 15s 9ms/step - loss: 0.2319 - accuracy: 0.9141\n",
      "Epoch 215/750\n",
      "1563/1563 [==============================] - 15s 9ms/step - loss: 0.2331 - accuracy: 0.9160\n",
      "Epoch 216/750\n",
      "1563/1563 [==============================] - 15s 9ms/step - loss: 0.2370 - accuracy: 0.9130\n",
      "Epoch 217/750\n",
      "1563/1563 [==============================] - 15s 9ms/step - loss: 0.2353 - accuracy: 0.9138\n",
      "Epoch 218/750\n",
      "1563/1563 [==============================] - 15s 9ms/step - loss: 0.2294 - accuracy: 0.9145\n",
      "Epoch 219/750\n",
      "1563/1563 [==============================] - 15s 9ms/step - loss: 0.2381 - accuracy: 0.9140\n",
      "Epoch 220/750\n",
      "1563/1563 [==============================] - 15s 9ms/step - loss: 0.2368 - accuracy: 0.9125\n",
      "Epoch 221/750\n",
      "1563/1563 [==============================] - 15s 9ms/step - loss: 0.2239 - accuracy: 0.9175\n",
      "Epoch 222/750\n",
      "1563/1563 [==============================] - 15s 9ms/step - loss: 0.2364 - accuracy: 0.9142\n",
      "Epoch 223/750\n",
      "1563/1563 [==============================] - 15s 9ms/step - loss: 0.2246 - accuracy: 0.9178\n",
      "Epoch 224/750\n",
      "1563/1563 [==============================] - 15s 10ms/step - loss: 0.2377 - accuracy: 0.9123\n",
      "Epoch 225/750\n",
      "1563/1563 [==============================] - 15s 9ms/step - loss: 0.2247 - accuracy: 0.9174\n",
      "Epoch 226/750\n",
      "1563/1563 [==============================] - 15s 9ms/step - loss: 0.2282 - accuracy: 0.9153\n",
      "Epoch 227/750\n",
      "1563/1563 [==============================] - 15s 9ms/step - loss: 0.2278 - accuracy: 0.9173\n",
      "Epoch 228/750\n",
      "1563/1563 [==============================] - 15s 9ms/step - loss: 0.2294 - accuracy: 0.9155\n",
      "Epoch 229/750\n",
      "1563/1563 [==============================] - 15s 9ms/step - loss: 0.2293 - accuracy: 0.9153\n",
      "Epoch 230/750\n",
      "1563/1563 [==============================] - 15s 9ms/step - loss: 0.2305 - accuracy: 0.9167\n",
      "Epoch 231/750\n",
      "1563/1563 [==============================] - 15s 9ms/step - loss: 0.2237 - accuracy: 0.9180\n",
      "Epoch 232/750\n"
     ]
    },
    {
     "name": "stdout",
     "output_type": "stream",
     "text": [
      "1563/1563 [==============================] - 15s 9ms/step - loss: 0.2250 - accuracy: 0.9174\n",
      "Epoch 233/750\n",
      "1563/1563 [==============================] - 15s 9ms/step - loss: 0.2190 - accuracy: 0.9200\n",
      "Epoch 234/750\n",
      "1563/1563 [==============================] - 15s 9ms/step - loss: 0.2275 - accuracy: 0.9166\n",
      "Epoch 235/750\n",
      "1563/1563 [==============================] - 15s 9ms/step - loss: 0.2231 - accuracy: 0.9187\n",
      "Epoch 236/750\n",
      "1563/1563 [==============================] - 15s 9ms/step - loss: 0.2309 - accuracy: 0.9160\n",
      "Epoch 237/750\n",
      "1563/1563 [==============================] - 15s 9ms/step - loss: 0.2236 - accuracy: 0.9181\n",
      "Epoch 238/750\n",
      "1563/1563 [==============================] - 15s 9ms/step - loss: 0.2194 - accuracy: 0.9188\n",
      "Epoch 239/750\n",
      "1563/1563 [==============================] - 15s 9ms/step - loss: 0.2301 - accuracy: 0.9150\n",
      "Epoch 240/750\n",
      "1563/1563 [==============================] - 15s 9ms/step - loss: 0.2201 - accuracy: 0.9191\n",
      "Epoch 241/750\n",
      "1563/1563 [==============================] - 15s 9ms/step - loss: 0.2269 - accuracy: 0.9172\n",
      "Epoch 242/750\n",
      "1563/1563 [==============================] - 15s 9ms/step - loss: 0.2263 - accuracy: 0.9165\n",
      "Epoch 243/750\n",
      "1563/1563 [==============================] - 15s 9ms/step - loss: 0.2236 - accuracy: 0.9179\n",
      "Epoch 244/750\n",
      "1563/1563 [==============================] - 15s 9ms/step - loss: 0.2258 - accuracy: 0.9176\n",
      "Epoch 245/750\n",
      "1563/1563 [==============================] - 15s 9ms/step - loss: 0.2208 - accuracy: 0.9178\n",
      "Epoch 246/750\n",
      "1563/1563 [==============================] - 15s 9ms/step - loss: 0.2208 - accuracy: 0.9186\n",
      "Epoch 247/750\n",
      "1563/1563 [==============================] - 15s 9ms/step - loss: 0.2201 - accuracy: 0.9190\n",
      "Epoch 248/750\n",
      "1563/1563 [==============================] - 15s 9ms/step - loss: 0.2235 - accuracy: 0.9191\n",
      "Epoch 249/750\n",
      "1563/1563 [==============================] - 15s 9ms/step - loss: 0.2257 - accuracy: 0.9187\n",
      "Epoch 250/750\n",
      "1563/1563 [==============================] - 15s 9ms/step - loss: 0.2261 - accuracy: 0.9169\n",
      "Epoch 251/750\n",
      "1563/1563 [==============================] - 15s 9ms/step - loss: 0.2169 - accuracy: 0.9190\n",
      "Epoch 252/750\n",
      "1563/1563 [==============================] - 15s 9ms/step - loss: 0.2189 - accuracy: 0.9207\n",
      "Epoch 253/750\n",
      "1563/1563 [==============================] - 15s 9ms/step - loss: 0.2235 - accuracy: 0.9186\n",
      "Epoch 254/750\n",
      "1563/1563 [==============================] - 15s 9ms/step - loss: 0.2174 - accuracy: 0.9194\n",
      "Epoch 255/750\n",
      "1563/1563 [==============================] - 15s 9ms/step - loss: 0.2155 - accuracy: 0.9219\n",
      "Epoch 256/750\n",
      "1563/1563 [==============================] - 15s 9ms/step - loss: 0.2268 - accuracy: 0.9168\n",
      "Epoch 257/750\n",
      "1563/1563 [==============================] - 15s 9ms/step - loss: 0.2140 - accuracy: 0.9210\n",
      "Epoch 258/750\n",
      "1563/1563 [==============================] - 15s 9ms/step - loss: 0.2179 - accuracy: 0.9210\n",
      "Epoch 259/750\n",
      "1563/1563 [==============================] - 15s 9ms/step - loss: 0.2218 - accuracy: 0.9194\n",
      "Epoch 260/750\n",
      "1563/1563 [==============================] - 15s 9ms/step - loss: 0.2218 - accuracy: 0.9202\n",
      "Epoch 261/750\n",
      "1563/1563 [==============================] - 15s 9ms/step - loss: 0.2209 - accuracy: 0.9202\n",
      "Epoch 262/750\n",
      "1563/1563 [==============================] - 15s 9ms/step - loss: 0.2109 - accuracy: 0.9229\n",
      "Epoch 263/750\n",
      "1563/1563 [==============================] - 15s 9ms/step - loss: 0.2238 - accuracy: 0.9182\n",
      "Epoch 264/750\n",
      "1563/1563 [==============================] - 15s 9ms/step - loss: 0.2163 - accuracy: 0.9212\n",
      "Epoch 265/750\n",
      "1563/1563 [==============================] - 15s 9ms/step - loss: 0.2177 - accuracy: 0.9204\n",
      "Epoch 266/750\n",
      "1563/1563 [==============================] - 15s 9ms/step - loss: 0.2219 - accuracy: 0.9197\n",
      "Epoch 267/750\n",
      "1563/1563 [==============================] - 15s 9ms/step - loss: 0.2146 - accuracy: 0.9230\n",
      "Epoch 268/750\n",
      "1563/1563 [==============================] - 15s 9ms/step - loss: 0.2208 - accuracy: 0.9195\n",
      "Epoch 269/750\n",
      "1563/1563 [==============================] - 15s 9ms/step - loss: 0.2145 - accuracy: 0.9215\n",
      "Epoch 270/750\n",
      "1563/1563 [==============================] - 15s 9ms/step - loss: 0.2216 - accuracy: 0.9201\n",
      "Epoch 271/750\n",
      "1563/1563 [==============================] - 15s 9ms/step - loss: 0.2179 - accuracy: 0.9202\n",
      "Epoch 272/750\n",
      "1563/1563 [==============================] - 15s 9ms/step - loss: 0.2092 - accuracy: 0.9221\n",
      "Epoch 273/750\n",
      "1563/1563 [==============================] - 15s 9ms/step - loss: 0.2136 - accuracy: 0.9236\n",
      "Epoch 274/750\n",
      "1563/1563 [==============================] - 15s 9ms/step - loss: 0.2127 - accuracy: 0.9232\n",
      "Epoch 275/750\n",
      "1563/1563 [==============================] - 15s 9ms/step - loss: 0.2187 - accuracy: 0.9215\n",
      "Epoch 276/750\n",
      "1563/1563 [==============================] - 15s 9ms/step - loss: 0.2159 - accuracy: 0.9210\n",
      "Epoch 277/750\n",
      "1563/1563 [==============================] - 15s 9ms/step - loss: 0.2149 - accuracy: 0.9233\n",
      "Epoch 278/750\n",
      "1563/1563 [==============================] - 15s 9ms/step - loss: 0.2140 - accuracy: 0.9226\n",
      "Epoch 279/750\n",
      "1563/1563 [==============================] - 15s 9ms/step - loss: 0.2117 - accuracy: 0.9227\n",
      "Epoch 280/750\n",
      "1563/1563 [==============================] - 15s 9ms/step - loss: 0.2111 - accuracy: 0.9233\n",
      "Epoch 281/750\n",
      "1563/1563 [==============================] - 15s 9ms/step - loss: 0.2141 - accuracy: 0.9213\n",
      "Epoch 282/750\n",
      "1563/1563 [==============================] - 15s 9ms/step - loss: 0.2173 - accuracy: 0.9204\n",
      "Epoch 283/750\n",
      "1563/1563 [==============================] - 15s 9ms/step - loss: 0.2193 - accuracy: 0.9209\n",
      "Epoch 284/750\n",
      "1563/1563 [==============================] - 15s 9ms/step - loss: 0.2182 - accuracy: 0.9200\n",
      "Epoch 285/750\n",
      "1563/1563 [==============================] - 15s 9ms/step - loss: 0.2181 - accuracy: 0.9207\n",
      "Epoch 286/750\n",
      "1563/1563 [==============================] - 15s 9ms/step - loss: 0.2123 - accuracy: 0.9233\n",
      "Epoch 287/750\n",
      "1563/1563 [==============================] - 15s 9ms/step - loss: 0.2095 - accuracy: 0.9244\n",
      "Epoch 288/750\n",
      "1563/1563 [==============================] - 15s 9ms/step - loss: 0.2146 - accuracy: 0.9221\n",
      "Epoch 289/750\n",
      "1563/1563 [==============================] - 15s 9ms/step - loss: 0.2166 - accuracy: 0.9226\n",
      "Epoch 290/750\n",
      "1563/1563 [==============================] - 15s 9ms/step - loss: 0.2088 - accuracy: 0.9246\n",
      "Epoch 291/750\n",
      "1563/1563 [==============================] - 15s 9ms/step - loss: 0.2134 - accuracy: 0.9232\n",
      "Epoch 292/750\n",
      "1563/1563 [==============================] - 15s 9ms/step - loss: 0.2065 - accuracy: 0.9247\n",
      "Epoch 293/750\n",
      "1563/1563 [==============================] - 15s 9ms/step - loss: 0.2129 - accuracy: 0.9229\n",
      "Epoch 294/750\n",
      "1563/1563 [==============================] - 15s 9ms/step - loss: 0.2126 - accuracy: 0.9234\n",
      "Epoch 295/750\n",
      "1563/1563 [==============================] - 15s 9ms/step - loss: 0.2143 - accuracy: 0.9232\n",
      "Epoch 296/750\n",
      "1563/1563 [==============================] - 15s 9ms/step - loss: 0.1998 - accuracy: 0.9262\n",
      "Epoch 297/750\n",
      "1563/1563 [==============================] - 15s 9ms/step - loss: 0.2035 - accuracy: 0.9257\n",
      "Epoch 298/750\n",
      "1563/1563 [==============================] - 15s 9ms/step - loss: 0.2103 - accuracy: 0.9238\n",
      "Epoch 299/750\n",
      "1563/1563 [==============================] - 15s 9ms/step - loss: 0.2097 - accuracy: 0.9232\n",
      "Epoch 300/750\n",
      "1563/1563 [==============================] - 15s 9ms/step - loss: 0.2121 - accuracy: 0.9235\n",
      "Epoch 301/750\n",
      "1563/1563 [==============================] - 15s 9ms/step - loss: 0.2167 - accuracy: 0.9228\n",
      "Epoch 302/750\n",
      "1563/1563 [==============================] - 15s 9ms/step - loss: 0.2101 - accuracy: 0.9247\n",
      "Epoch 303/750\n",
      "1563/1563 [==============================] - 15s 9ms/step - loss: 0.2038 - accuracy: 0.9263\n",
      "Epoch 304/750\n",
      "1563/1563 [==============================] - 15s 9ms/step - loss: 0.2183 - accuracy: 0.9220\n",
      "Epoch 305/750\n",
      "1563/1563 [==============================] - 15s 9ms/step - loss: 0.2112 - accuracy: 0.9241\n",
      "Epoch 306/750\n",
      "1563/1563 [==============================] - 15s 9ms/step - loss: 0.2078 - accuracy: 0.9253\n",
      "Epoch 307/750\n",
      "1563/1563 [==============================] - 15s 9ms/step - loss: 0.2081 - accuracy: 0.9249\n",
      "Epoch 308/750\n",
      "1563/1563 [==============================] - 15s 9ms/step - loss: 0.2097 - accuracy: 0.9243\n",
      "Epoch 309/750\n"
     ]
    },
    {
     "name": "stdout",
     "output_type": "stream",
     "text": [
      "1563/1563 [==============================] - 15s 9ms/step - loss: 0.2046 - accuracy: 0.9271\n",
      "Epoch 310/750\n",
      "1563/1563 [==============================] - 15s 9ms/step - loss: 0.2146 - accuracy: 0.9225\n",
      "Epoch 311/750\n",
      "1563/1563 [==============================] - 15s 9ms/step - loss: 0.2114 - accuracy: 0.9250\n",
      "Epoch 312/750\n",
      "1563/1563 [==============================] - 15s 9ms/step - loss: 0.2035 - accuracy: 0.9260\n",
      "Epoch 313/750\n",
      "1563/1563 [==============================] - 15s 9ms/step - loss: 0.2100 - accuracy: 0.9244\n",
      "Epoch 314/750\n",
      "1563/1563 [==============================] - 15s 9ms/step - loss: 0.2119 - accuracy: 0.9225\n",
      "Epoch 315/750\n",
      "1563/1563 [==============================] - 15s 9ms/step - loss: 0.2025 - accuracy: 0.9266\n",
      "Epoch 316/750\n",
      "1563/1563 [==============================] - 15s 9ms/step - loss: 0.2099 - accuracy: 0.9246\n",
      "Epoch 317/750\n",
      "1563/1563 [==============================] - 15s 9ms/step - loss: 0.2053 - accuracy: 0.9262\n",
      "Epoch 318/750\n",
      "1563/1563 [==============================] - 15s 9ms/step - loss: 0.2081 - accuracy: 0.9250\n",
      "Epoch 319/750\n",
      "1563/1563 [==============================] - 15s 9ms/step - loss: 0.2147 - accuracy: 0.9242\n",
      "Epoch 320/750\n",
      "1563/1563 [==============================] - 15s 9ms/step - loss: 0.2067 - accuracy: 0.9254\n",
      "Epoch 321/750\n",
      "1563/1563 [==============================] - 15s 9ms/step - loss: 0.2035 - accuracy: 0.9265\n",
      "Epoch 322/750\n",
      "1563/1563 [==============================] - 15s 9ms/step - loss: 0.2104 - accuracy: 0.9238\n",
      "Epoch 323/750\n",
      "1563/1563 [==============================] - 15s 9ms/step - loss: 0.2129 - accuracy: 0.9232\n",
      "Epoch 324/750\n",
      "1563/1563 [==============================] - 15s 9ms/step - loss: 0.2044 - accuracy: 0.9246\n",
      "Epoch 325/750\n",
      "1563/1563 [==============================] - 15s 9ms/step - loss: 0.2114 - accuracy: 0.9243\n",
      "Epoch 326/750\n",
      "1563/1563 [==============================] - 15s 9ms/step - loss: 0.2029 - accuracy: 0.9280\n",
      "Epoch 327/750\n",
      "1563/1563 [==============================] - 15s 9ms/step - loss: 0.2102 - accuracy: 0.9233\n",
      "Epoch 328/750\n",
      "1563/1563 [==============================] - 15s 9ms/step - loss: 0.2042 - accuracy: 0.9266\n",
      "Epoch 329/750\n",
      "1563/1563 [==============================] - 15s 10ms/step - loss: 0.2116 - accuracy: 0.9242\n",
      "Epoch 330/750\n",
      "1563/1563 [==============================] - 15s 9ms/step - loss: 0.2023 - accuracy: 0.9269\n",
      "Epoch 331/750\n",
      "1563/1563 [==============================] - 15s 9ms/step - loss: 0.2069 - accuracy: 0.9270\n",
      "Epoch 332/750\n",
      "1563/1563 [==============================] - 15s 9ms/step - loss: 0.2017 - accuracy: 0.9262\n",
      "Epoch 333/750\n",
      "1563/1563 [==============================] - 15s 9ms/step - loss: 0.2075 - accuracy: 0.9250\n",
      "Epoch 334/750\n",
      "1563/1563 [==============================] - 15s 9ms/step - loss: 0.2073 - accuracy: 0.9267\n",
      "Epoch 335/750\n",
      "1563/1563 [==============================] - 15s 9ms/step - loss: 0.2024 - accuracy: 0.9260\n",
      "Epoch 336/750\n",
      "1563/1563 [==============================] - 15s 9ms/step - loss: 0.2232 - accuracy: 0.9194\n",
      "Epoch 337/750\n",
      "1563/1563 [==============================] - 15s 9ms/step - loss: 0.2063 - accuracy: 0.9251\n",
      "Epoch 338/750\n",
      "1563/1563 [==============================] - 15s 9ms/step - loss: 0.1973 - accuracy: 0.9299\n",
      "Epoch 339/750\n",
      "1563/1563 [==============================] - 15s 9ms/step - loss: 0.2028 - accuracy: 0.9275\n",
      "Epoch 340/750\n",
      "1563/1563 [==============================] - 15s 9ms/step - loss: 0.1981 - accuracy: 0.9279\n",
      "Epoch 341/750\n",
      "1563/1563 [==============================] - 15s 9ms/step - loss: 0.2094 - accuracy: 0.9255\n",
      "Epoch 342/750\n",
      "1563/1563 [==============================] - 15s 9ms/step - loss: 0.2026 - accuracy: 0.9274\n",
      "Epoch 343/750\n",
      "1563/1563 [==============================] - 15s 9ms/step - loss: 0.2030 - accuracy: 0.9267\n",
      "Epoch 344/750\n",
      "1563/1563 [==============================] - 15s 9ms/step - loss: 0.2123 - accuracy: 0.9244\n",
      "Epoch 345/750\n",
      "1563/1563 [==============================] - 15s 9ms/step - loss: 0.2117 - accuracy: 0.9248\n",
      "Epoch 346/750\n",
      "1563/1563 [==============================] - 15s 9ms/step - loss: 0.1959 - accuracy: 0.9297\n",
      "Epoch 347/750\n",
      "1563/1563 [==============================] - 15s 9ms/step - loss: 0.2064 - accuracy: 0.9258\n",
      "Epoch 348/750\n",
      "1563/1563 [==============================] - 15s 9ms/step - loss: 0.2097 - accuracy: 0.9253\n",
      "Epoch 349/750\n",
      "1563/1563 [==============================] - 15s 9ms/step - loss: 0.2033 - accuracy: 0.9269\n",
      "Epoch 350/750\n",
      "1563/1563 [==============================] - 15s 9ms/step - loss: 0.2008 - accuracy: 0.9286\n",
      "Epoch 351/750\n",
      "1563/1563 [==============================] - 15s 9ms/step - loss: 0.2065 - accuracy: 0.9256\n",
      "Epoch 352/750\n",
      "1563/1563 [==============================] - 15s 9ms/step - loss: 0.1997 - accuracy: 0.9285\n",
      "Epoch 353/750\n",
      "1563/1563 [==============================] - 15s 9ms/step - loss: 0.1967 - accuracy: 0.9299\n",
      "Epoch 354/750\n",
      "1563/1563 [==============================] - 15s 9ms/step - loss: 0.2107 - accuracy: 0.9260\n",
      "Epoch 355/750\n",
      "1563/1563 [==============================] - 15s 9ms/step - loss: 0.1948 - accuracy: 0.9303\n",
      "Epoch 356/750\n",
      "1563/1563 [==============================] - 15s 9ms/step - loss: 0.2027 - accuracy: 0.9266\n",
      "Epoch 357/750\n",
      "1563/1563 [==============================] - 15s 9ms/step - loss: 0.2089 - accuracy: 0.9253\n",
      "Epoch 358/750\n",
      "1563/1563 [==============================] - 15s 9ms/step - loss: 0.1981 - accuracy: 0.9290\n",
      "Epoch 359/750\n",
      "1563/1563 [==============================] - 15s 9ms/step - loss: 0.2094 - accuracy: 0.9250\n",
      "Epoch 360/750\n",
      "1563/1563 [==============================] - 15s 9ms/step - loss: 0.1930 - accuracy: 0.9303\n",
      "Epoch 361/750\n",
      "1563/1563 [==============================] - 15s 9ms/step - loss: 0.2024 - accuracy: 0.9282\n",
      "Epoch 362/750\n",
      "1563/1563 [==============================] - 15s 9ms/step - loss: 0.2026 - accuracy: 0.9285\n",
      "Epoch 363/750\n",
      "1563/1563 [==============================] - 15s 9ms/step - loss: 0.2067 - accuracy: 0.9265\n",
      "Epoch 364/750\n",
      "1563/1563 [==============================] - 15s 9ms/step - loss: 0.1896 - accuracy: 0.9315\n",
      "Epoch 365/750\n",
      "1563/1563 [==============================] - 15s 9ms/step - loss: 0.2088 - accuracy: 0.9260\n",
      "Epoch 366/750\n",
      "1563/1563 [==============================] - 15s 9ms/step - loss: 0.2075 - accuracy: 0.9260\n",
      "Epoch 367/750\n",
      "1563/1563 [==============================] - 15s 9ms/step - loss: 0.1937 - accuracy: 0.9299\n",
      "Epoch 368/750\n",
      "1563/1563 [==============================] - 15s 9ms/step - loss: 0.2192 - accuracy: 0.9238\n",
      "Epoch 369/750\n",
      "1563/1563 [==============================] - 15s 9ms/step - loss: 0.1916 - accuracy: 0.9303\n",
      "Epoch 370/750\n",
      "1563/1563 [==============================] - 15s 9ms/step - loss: 0.2045 - accuracy: 0.9259\n",
      "Epoch 371/750\n",
      "1563/1563 [==============================] - 15s 9ms/step - loss: 0.1968 - accuracy: 0.9300\n",
      "Epoch 372/750\n",
      "1563/1563 [==============================] - 15s 9ms/step - loss: 0.2043 - accuracy: 0.9268\n",
      "Epoch 373/750\n",
      "1563/1563 [==============================] - 15s 9ms/step - loss: 0.1963 - accuracy: 0.9293\n",
      "Epoch 374/750\n",
      "1563/1563 [==============================] - 15s 9ms/step - loss: 0.2031 - accuracy: 0.9265\n",
      "Epoch 375/750\n",
      "1563/1563 [==============================] - 15s 9ms/step - loss: 0.2092 - accuracy: 0.9258\n",
      "Epoch 376/750\n",
      "1563/1563 [==============================] - 15s 9ms/step - loss: 0.1956 - accuracy: 0.9307\n",
      "Epoch 377/750\n",
      "1563/1563 [==============================] - 15s 9ms/step - loss: 0.2144 - accuracy: 0.9250\n",
      "Epoch 378/750\n",
      "1563/1563 [==============================] - 15s 9ms/step - loss: 0.1981 - accuracy: 0.9304\n",
      "Epoch 379/750\n",
      "1563/1563 [==============================] - 15s 9ms/step - loss: 0.1897 - accuracy: 0.9321\n",
      "Epoch 380/750\n",
      "1563/1563 [==============================] - 15s 9ms/step - loss: 0.2131 - accuracy: 0.9246\n",
      "Epoch 381/750\n",
      "1563/1563 [==============================] - 15s 9ms/step - loss: 0.1967 - accuracy: 0.9293\n",
      "Epoch 382/750\n",
      "1563/1563 [==============================] - 15s 9ms/step - loss: 0.1929 - accuracy: 0.9316\n",
      "Epoch 383/750\n",
      "1563/1563 [==============================] - 15s 9ms/step - loss: 0.2120 - accuracy: 0.9267\n",
      "Epoch 384/750\n",
      "1563/1563 [==============================] - 15s 9ms/step - loss: 0.1954 - accuracy: 0.9313\n",
      "Epoch 385/750\n",
      "1563/1563 [==============================] - 15s 9ms/step - loss: 0.2024 - accuracy: 0.9281\n",
      "Epoch 386/750\n"
     ]
    },
    {
     "name": "stdout",
     "output_type": "stream",
     "text": [
      "1563/1563 [==============================] - 15s 9ms/step - loss: 0.1940 - accuracy: 0.9295\n",
      "Epoch 387/750\n",
      "1563/1563 [==============================] - 15s 9ms/step - loss: 0.2002 - accuracy: 0.9288\n",
      "Epoch 388/750\n",
      "1563/1563 [==============================] - 15s 9ms/step - loss: 0.2068 - accuracy: 0.9278\n",
      "Epoch 389/750\n",
      "1563/1563 [==============================] - 15s 9ms/step - loss: 0.1893 - accuracy: 0.9313\n",
      "Epoch 390/750\n",
      "1563/1563 [==============================] - 15s 9ms/step - loss: 0.1970 - accuracy: 0.9301\n",
      "Epoch 391/750\n",
      "1563/1563 [==============================] - 15s 9ms/step - loss: 0.1929 - accuracy: 0.9299\n",
      "Epoch 392/750\n",
      "1563/1563 [==============================] - 15s 9ms/step - loss: 0.1909 - accuracy: 0.9324\n",
      "Epoch 393/750\n",
      "1563/1563 [==============================] - 15s 9ms/step - loss: 0.1978 - accuracy: 0.9294\n",
      "Epoch 394/750\n",
      "1563/1563 [==============================] - 15s 9ms/step - loss: 0.2112 - accuracy: 0.9262\n",
      "Epoch 395/750\n",
      "1563/1563 [==============================] - 15s 9ms/step - loss: 0.1952 - accuracy: 0.9307\n",
      "Epoch 396/750\n",
      "1563/1563 [==============================] - 15s 9ms/step - loss: 0.1951 - accuracy: 0.9304\n",
      "Epoch 397/750\n",
      "1563/1563 [==============================] - 15s 9ms/step - loss: 0.2062 - accuracy: 0.9277\n",
      "Epoch 398/750\n",
      "1563/1563 [==============================] - 15s 9ms/step - loss: 0.1958 - accuracy: 0.9299\n",
      "Epoch 399/750\n",
      "1563/1563 [==============================] - 15s 9ms/step - loss: 0.1955 - accuracy: 0.9307\n",
      "Epoch 400/750\n",
      "1563/1563 [==============================] - 15s 9ms/step - loss: 0.2032 - accuracy: 0.9295\n",
      "Epoch 401/750\n",
      "1563/1563 [==============================] - 15s 9ms/step - loss: 0.1927 - accuracy: 0.9323\n",
      "Epoch 402/750\n",
      "1563/1563 [==============================] - 15s 9ms/step - loss: 0.1983 - accuracy: 0.9307\n",
      "Epoch 403/750\n",
      "1563/1563 [==============================] - 15s 9ms/step - loss: 0.2006 - accuracy: 0.9292\n",
      "Epoch 404/750\n",
      "1563/1563 [==============================] - 15s 9ms/step - loss: 0.2032 - accuracy: 0.9277\n",
      "Epoch 405/750\n",
      "1563/1563 [==============================] - 15s 9ms/step - loss: 0.2047 - accuracy: 0.9286\n",
      "Epoch 406/750\n",
      "1563/1563 [==============================] - 15s 9ms/step - loss: 0.1908 - accuracy: 0.9315\n",
      "Epoch 407/750\n",
      "1563/1563 [==============================] - 15s 9ms/step - loss: 0.1946 - accuracy: 0.9314\n",
      "Epoch 408/750\n",
      "1563/1563 [==============================] - 15s 9ms/step - loss: 0.1934 - accuracy: 0.9312\n",
      "Epoch 409/750\n",
      "1563/1563 [==============================] - 15s 9ms/step - loss: 0.1998 - accuracy: 0.9292\n",
      "Epoch 410/750\n",
      "1563/1563 [==============================] - 15s 9ms/step - loss: 0.2013 - accuracy: 0.9286\n",
      "Epoch 411/750\n",
      "1563/1563 [==============================] - 15s 9ms/step - loss: 0.2065 - accuracy: 0.9272\n",
      "Epoch 412/750\n",
      "1563/1563 [==============================] - 15s 9ms/step - loss: 0.1872 - accuracy: 0.9329\n",
      "Epoch 413/750\n",
      "1563/1563 [==============================] - 15s 9ms/step - loss: 0.1995 - accuracy: 0.9307\n",
      "Epoch 414/750\n",
      "1563/1563 [==============================] - 15s 9ms/step - loss: 0.1891 - accuracy: 0.9340\n",
      "Epoch 415/750\n",
      "1563/1563 [==============================] - 15s 9ms/step - loss: 0.2053 - accuracy: 0.9293\n",
      "Epoch 416/750\n",
      "1563/1563 [==============================] - 15s 9ms/step - loss: 0.1938 - accuracy: 0.9318\n",
      "Epoch 417/750\n",
      "1563/1563 [==============================] - 15s 9ms/step - loss: 0.1932 - accuracy: 0.9317\n",
      "Epoch 418/750\n",
      "1563/1563 [==============================] - 15s 9ms/step - loss: 0.1957 - accuracy: 0.9315\n",
      "Epoch 419/750\n",
      "1563/1563 [==============================] - 15s 9ms/step - loss: 0.1937 - accuracy: 0.9316\n",
      "Epoch 420/750\n",
      "1563/1563 [==============================] - 15s 9ms/step - loss: 0.1991 - accuracy: 0.9316\n",
      "Epoch 421/750\n",
      "1563/1563 [==============================] - 15s 9ms/step - loss: 0.1927 - accuracy: 0.9314\n",
      "Epoch 422/750\n",
      "1563/1563 [==============================] - 15s 9ms/step - loss: 0.2077 - accuracy: 0.9278\n",
      "Epoch 423/750\n",
      "1563/1563 [==============================] - 15s 9ms/step - loss: 0.1852 - accuracy: 0.9346\n",
      "Epoch 424/750\n",
      "1563/1563 [==============================] - 15s 9ms/step - loss: 0.1991 - accuracy: 0.9304\n",
      "Epoch 425/750\n",
      "1563/1563 [==============================] - 15s 9ms/step - loss: 0.1945 - accuracy: 0.9323\n",
      "Epoch 426/750\n",
      "1563/1563 [==============================] - 15s 9ms/step - loss: 0.2042 - accuracy: 0.9287\n",
      "Epoch 427/750\n",
      "1563/1563 [==============================] - 15s 9ms/step - loss: 0.1977 - accuracy: 0.9300\n",
      "Epoch 428/750\n",
      "1563/1563 [==============================] - 15s 9ms/step - loss: 0.1906 - accuracy: 0.9318\n",
      "Epoch 429/750\n",
      "1563/1563 [==============================] - 15s 9ms/step - loss: 0.2037 - accuracy: 0.9286\n",
      "Epoch 430/750\n",
      "1563/1563 [==============================] - 15s 9ms/step - loss: 0.1919 - accuracy: 0.9325\n",
      "Epoch 431/750\n",
      "1563/1563 [==============================] - 15s 10ms/step - loss: 0.1982 - accuracy: 0.9307\n",
      "Epoch 432/750\n",
      "1563/1563 [==============================] - 15s 9ms/step - loss: 0.2012 - accuracy: 0.9285\n",
      "Epoch 433/750\n",
      "1563/1563 [==============================] - 15s 9ms/step - loss: 0.1886 - accuracy: 0.9330\n",
      "Epoch 434/750\n",
      "1563/1563 [==============================] - 15s 9ms/step - loss: 0.1969 - accuracy: 0.9306\n",
      "Epoch 435/750\n",
      "1563/1563 [==============================] - 15s 9ms/step - loss: 0.2003 - accuracy: 0.9298\n",
      "Epoch 436/750\n",
      "1563/1563 [==============================] - 15s 9ms/step - loss: 0.1909 - accuracy: 0.9316\n",
      "Epoch 437/750\n",
      "1563/1563 [==============================] - 15s 9ms/step - loss: 0.1907 - accuracy: 0.9330\n",
      "Epoch 438/750\n",
      "1563/1563 [==============================] - 15s 9ms/step - loss: 0.1942 - accuracy: 0.9315\n",
      "Epoch 439/750\n",
      "1563/1563 [==============================] - 15s 9ms/step - loss: 0.1983 - accuracy: 0.9302\n",
      "Epoch 440/750\n",
      "1563/1563 [==============================] - 15s 9ms/step - loss: 0.2014 - accuracy: 0.9301\n",
      "Epoch 441/750\n",
      "1563/1563 [==============================] - 15s 9ms/step - loss: 0.1976 - accuracy: 0.9311\n",
      "Epoch 442/750\n",
      "1563/1563 [==============================] - 15s 9ms/step - loss: 0.1831 - accuracy: 0.9347\n",
      "Epoch 443/750\n",
      "1563/1563 [==============================] - 15s 9ms/step - loss: 0.1980 - accuracy: 0.9311\n",
      "Epoch 444/750\n",
      "1563/1563 [==============================] - 15s 9ms/step - loss: 0.1891 - accuracy: 0.9338\n",
      "Epoch 445/750\n",
      "1563/1563 [==============================] - 15s 9ms/step - loss: 0.1941 - accuracy: 0.9317\n",
      "Epoch 446/750\n",
      "1563/1563 [==============================] - 15s 9ms/step - loss: 0.1902 - accuracy: 0.9325\n",
      "Epoch 447/750\n",
      "1563/1563 [==============================] - 15s 9ms/step - loss: 0.2064 - accuracy: 0.9281\n",
      "Epoch 448/750\n",
      "1563/1563 [==============================] - 15s 9ms/step - loss: 0.1929 - accuracy: 0.9325\n",
      "Epoch 449/750\n",
      "1563/1563 [==============================] - 15s 9ms/step - loss: 0.1966 - accuracy: 0.9314\n",
      "Epoch 450/750\n",
      "1563/1563 [==============================] - 15s 9ms/step - loss: 0.1933 - accuracy: 0.9319\n",
      "Epoch 451/750\n",
      "1563/1563 [==============================] - 15s 9ms/step - loss: 0.1987 - accuracy: 0.9296\n",
      "Epoch 452/750\n",
      "1563/1563 [==============================] - 15s 9ms/step - loss: 0.1909 - accuracy: 0.9323\n",
      "Epoch 453/750\n",
      "1563/1563 [==============================] - 15s 9ms/step - loss: 0.1915 - accuracy: 0.9321\n",
      "Epoch 454/750\n",
      "1563/1563 [==============================] - 15s 9ms/step - loss: 0.1973 - accuracy: 0.9305\n",
      "Epoch 455/750\n",
      "1563/1563 [==============================] - 15s 10ms/step - loss: 0.1899 - accuracy: 0.9343\n",
      "Epoch 456/750\n",
      "1563/1563 [==============================] - 15s 9ms/step - loss: 0.1932 - accuracy: 0.9316\n",
      "Epoch 457/750\n",
      "1563/1563 [==============================] - 15s 9ms/step - loss: 0.1921 - accuracy: 0.9330\n",
      "Epoch 458/750\n",
      "1563/1563 [==============================] - 15s 9ms/step - loss: 0.1982 - accuracy: 0.9307\n",
      "Epoch 459/750\n",
      "1563/1563 [==============================] - 15s 9ms/step - loss: 0.1908 - accuracy: 0.9332\n",
      "Epoch 460/750\n",
      "1563/1563 [==============================] - 15s 9ms/step - loss: 0.1876 - accuracy: 0.9351\n",
      "Epoch 461/750\n",
      "1563/1563 [==============================] - 15s 9ms/step - loss: 0.2061 - accuracy: 0.9296\n",
      "Epoch 462/750\n",
      "1563/1563 [==============================] - 15s 9ms/step - loss: 0.1863 - accuracy: 0.9337\n",
      "Epoch 463/750\n"
     ]
    },
    {
     "name": "stdout",
     "output_type": "stream",
     "text": [
      "1563/1563 [==============================] - 15s 9ms/step - loss: 0.2001 - accuracy: 0.9292\n",
      "Epoch 464/750\n",
      "1563/1563 [==============================] - 15s 9ms/step - loss: 0.1875 - accuracy: 0.9346\n",
      "Epoch 465/750\n",
      "1563/1563 [==============================] - 15s 9ms/step - loss: 0.1901 - accuracy: 0.9331\n",
      "Epoch 466/750\n",
      "1563/1563 [==============================] - 15s 9ms/step - loss: 0.1992 - accuracy: 0.9315\n",
      "Epoch 467/750\n",
      "1563/1563 [==============================] - 15s 9ms/step - loss: 0.2003 - accuracy: 0.9305\n",
      "Epoch 468/750\n",
      "1563/1563 [==============================] - 15s 9ms/step - loss: 0.1905 - accuracy: 0.9333\n",
      "Epoch 469/750\n",
      "1563/1563 [==============================] - 15s 9ms/step - loss: 0.1909 - accuracy: 0.9333\n",
      "Epoch 470/750\n",
      "1563/1563 [==============================] - 15s 9ms/step - loss: 0.1967 - accuracy: 0.9319\n",
      "Epoch 471/750\n",
      "1563/1563 [==============================] - 15s 9ms/step - loss: 0.1882 - accuracy: 0.9348\n",
      "Epoch 472/750\n",
      "1563/1563 [==============================] - 15s 9ms/step - loss: 0.1880 - accuracy: 0.9344\n",
      "Epoch 473/750\n",
      "1563/1563 [==============================] - 15s 9ms/step - loss: 0.1990 - accuracy: 0.9311\n",
      "Epoch 474/750\n",
      "1563/1563 [==============================] - 15s 9ms/step - loss: 0.1933 - accuracy: 0.9327\n",
      "Epoch 475/750\n",
      "1563/1563 [==============================] - 15s 9ms/step - loss: 0.1909 - accuracy: 0.9341\n",
      "Epoch 476/750\n",
      "1563/1563 [==============================] - 15s 9ms/step - loss: 0.2055 - accuracy: 0.9302\n",
      "Epoch 477/750\n",
      "1563/1563 [==============================] - 15s 9ms/step - loss: 0.1930 - accuracy: 0.9330\n",
      "Epoch 478/750\n",
      "1563/1563 [==============================] - 15s 9ms/step - loss: 0.1861 - accuracy: 0.9343\n",
      "Epoch 479/750\n",
      "1563/1563 [==============================] - 15s 9ms/step - loss: 0.1963 - accuracy: 0.9309\n",
      "Epoch 480/750\n",
      "1563/1563 [==============================] - 15s 9ms/step - loss: 0.1927 - accuracy: 0.9334\n",
      "Epoch 481/750\n",
      "1563/1563 [==============================] - 15s 9ms/step - loss: 0.1883 - accuracy: 0.9340\n",
      "Epoch 482/750\n",
      "1563/1563 [==============================] - 15s 9ms/step - loss: 0.1990 - accuracy: 0.9322\n",
      "Epoch 483/750\n",
      "1563/1563 [==============================] - 15s 9ms/step - loss: 0.1898 - accuracy: 0.9333\n",
      "Epoch 484/750\n",
      "1563/1563 [==============================] - 15s 9ms/step - loss: 0.1821 - accuracy: 0.9358\n",
      "Epoch 485/750\n",
      "1563/1563 [==============================] - 15s 9ms/step - loss: 0.2040 - accuracy: 0.9293\n",
      "Epoch 486/750\n",
      "1563/1563 [==============================] - 15s 9ms/step - loss: 0.1956 - accuracy: 0.9319\n",
      "Epoch 487/750\n",
      "1563/1563 [==============================] - 15s 9ms/step - loss: 0.1843 - accuracy: 0.9358\n",
      "Epoch 488/750\n",
      "1563/1563 [==============================] - 15s 9ms/step - loss: 0.1983 - accuracy: 0.9334\n",
      "Epoch 489/750\n",
      "1563/1563 [==============================] - 15s 9ms/step - loss: 0.1835 - accuracy: 0.9359\n",
      "Epoch 490/750\n",
      "1563/1563 [==============================] - 15s 9ms/step - loss: 0.1895 - accuracy: 0.9346\n",
      "Epoch 491/750\n",
      "1563/1563 [==============================] - 15s 9ms/step - loss: 0.2053 - accuracy: 0.9300\n",
      "Epoch 492/750\n",
      "1563/1563 [==============================] - 15s 9ms/step - loss: 0.1829 - accuracy: 0.9363\n",
      "Epoch 493/750\n",
      "1563/1563 [==============================] - 15s 9ms/step - loss: 0.1997 - accuracy: 0.9314\n",
      "Epoch 494/750\n",
      "1563/1563 [==============================] - 15s 9ms/step - loss: 0.1853 - accuracy: 0.9345\n",
      "Epoch 495/750\n",
      "1563/1563 [==============================] - 15s 9ms/step - loss: 0.1848 - accuracy: 0.9353\n",
      "Epoch 496/750\n",
      "1563/1563 [==============================] - 15s 9ms/step - loss: 0.1922 - accuracy: 0.9336\n",
      "Epoch 497/750\n",
      "1563/1563 [==============================] - 15s 9ms/step - loss: 0.1963 - accuracy: 0.9325\n",
      "Epoch 498/750\n",
      "1563/1563 [==============================] - 15s 9ms/step - loss: 0.1918 - accuracy: 0.9351\n",
      "Epoch 499/750\n",
      "1563/1563 [==============================] - 15s 9ms/step - loss: 0.1844 - accuracy: 0.9363\n",
      "Epoch 500/750\n",
      "1563/1563 [==============================] - 15s 9ms/step - loss: 0.1895 - accuracy: 0.9338\n",
      "Epoch 501/750\n",
      "1563/1563 [==============================] - 15s 9ms/step - loss: 0.1935 - accuracy: 0.9331\n",
      "Epoch 502/750\n",
      "1563/1563 [==============================] - 15s 9ms/step - loss: 0.1907 - accuracy: 0.9337\n",
      "Epoch 503/750\n",
      "1563/1563 [==============================] - 15s 9ms/step - loss: 0.1850 - accuracy: 0.9369\n",
      "Epoch 504/750\n",
      "1563/1563 [==============================] - 15s 9ms/step - loss: 0.1790 - accuracy: 0.9378\n",
      "Epoch 505/750\n",
      "1563/1563 [==============================] - 15s 9ms/step - loss: 0.2041 - accuracy: 0.9296\n",
      "Epoch 506/750\n",
      "1563/1563 [==============================] - 15s 9ms/step - loss: 0.1946 - accuracy: 0.9325\n",
      "Epoch 507/750\n",
      "1563/1563 [==============================] - 15s 9ms/step - loss: 0.1768 - accuracy: 0.9385\n",
      "Epoch 508/750\n",
      "1563/1563 [==============================] - 15s 9ms/step - loss: 0.1929 - accuracy: 0.9327\n",
      "Epoch 509/750\n",
      "1563/1563 [==============================] - 15s 9ms/step - loss: 0.1952 - accuracy: 0.9335\n",
      "Epoch 510/750\n",
      "1563/1563 [==============================] - 15s 9ms/step - loss: 0.1798 - accuracy: 0.9382\n",
      "Epoch 511/750\n",
      "1563/1563 [==============================] - 15s 9ms/step - loss: 0.1981 - accuracy: 0.9331\n",
      "Epoch 512/750\n",
      "1563/1563 [==============================] - 15s 9ms/step - loss: 0.1917 - accuracy: 0.9345\n",
      "Epoch 513/750\n",
      "1563/1563 [==============================] - 15s 9ms/step - loss: 0.1995 - accuracy: 0.9310\n",
      "Epoch 514/750\n",
      "1563/1563 [==============================] - 15s 9ms/step - loss: 0.1812 - accuracy: 0.9363\n",
      "Epoch 515/750\n",
      "1563/1563 [==============================] - 15s 9ms/step - loss: 0.1878 - accuracy: 0.9344\n",
      "Epoch 516/750\n",
      "1563/1563 [==============================] - 15s 9ms/step - loss: 0.1939 - accuracy: 0.9340\n",
      "Epoch 517/750\n",
      "1563/1563 [==============================] - 15s 9ms/step - loss: 0.1801 - accuracy: 0.9361\n",
      "Epoch 518/750\n",
      "1563/1563 [==============================] - 15s 9ms/step - loss: 0.2005 - accuracy: 0.9319\n",
      "Epoch 519/750\n",
      "1563/1563 [==============================] - 15s 9ms/step - loss: 0.1885 - accuracy: 0.9357\n",
      "Epoch 520/750\n",
      "1563/1563 [==============================] - 15s 9ms/step - loss: 0.1937 - accuracy: 0.9331\n",
      "Epoch 521/750\n",
      "1563/1563 [==============================] - 15s 9ms/step - loss: 0.1923 - accuracy: 0.9336\n",
      "Epoch 522/750\n",
      "1563/1563 [==============================] - 15s 9ms/step - loss: 0.1933 - accuracy: 0.9351\n",
      "Epoch 523/750\n",
      "1563/1563 [==============================] - 15s 9ms/step - loss: 0.1852 - accuracy: 0.9357\n",
      "Epoch 524/750\n",
      "1563/1563 [==============================] - 15s 9ms/step - loss: 0.1828 - accuracy: 0.9359\n",
      "Epoch 525/750\n",
      "1563/1563 [==============================] - 15s 9ms/step - loss: 0.1941 - accuracy: 0.9322\n",
      "Epoch 526/750\n",
      "1563/1563 [==============================] - 15s 9ms/step - loss: 0.1916 - accuracy: 0.9356\n",
      "Epoch 527/750\n",
      "1563/1563 [==============================] - 15s 9ms/step - loss: 0.1879 - accuracy: 0.9351\n",
      "Epoch 528/750\n",
      "1563/1563 [==============================] - 15s 9ms/step - loss: 0.1940 - accuracy: 0.9338\n",
      "Epoch 529/750\n",
      "1563/1563 [==============================] - 15s 9ms/step - loss: 0.1893 - accuracy: 0.9344\n",
      "Epoch 530/750\n",
      "1563/1563 [==============================] - 15s 9ms/step - loss: 0.1885 - accuracy: 0.9356\n",
      "Epoch 531/750\n",
      "1563/1563 [==============================] - 15s 9ms/step - loss: 0.1841 - accuracy: 0.9359\n",
      "Epoch 532/750\n",
      "1563/1563 [==============================] - 15s 9ms/step - loss: 0.1935 - accuracy: 0.9337\n",
      "Epoch 533/750\n",
      "1563/1563 [==============================] - 15s 9ms/step - loss: 0.1985 - accuracy: 0.9333\n",
      "Epoch 534/750\n",
      "1563/1563 [==============================] - 15s 9ms/step - loss: 0.1876 - accuracy: 0.9349\n",
      "Epoch 535/750\n",
      "1563/1563 [==============================] - 15s 9ms/step - loss: 0.1878 - accuracy: 0.9357\n",
      "Epoch 536/750\n",
      "1563/1563 [==============================] - 15s 9ms/step - loss: 0.1801 - accuracy: 0.9385\n",
      "Epoch 537/750\n",
      "1563/1563 [==============================] - 15s 9ms/step - loss: 0.1968 - accuracy: 0.9321\n",
      "Epoch 538/750\n",
      "1563/1563 [==============================] - 15s 9ms/step - loss: 0.1951 - accuracy: 0.9332\n",
      "Epoch 539/750\n",
      "1563/1563 [==============================] - 15s 9ms/step - loss: 0.1919 - accuracy: 0.9355\n",
      "Epoch 540/750\n"
     ]
    },
    {
     "name": "stdout",
     "output_type": "stream",
     "text": [
      "1563/1563 [==============================] - 15s 9ms/step - loss: 0.1891 - accuracy: 0.9356\n",
      "Epoch 541/750\n",
      "1563/1563 [==============================] - 15s 9ms/step - loss: 0.1873 - accuracy: 0.9347\n",
      "Epoch 542/750\n",
      "1563/1563 [==============================] - 15s 9ms/step - loss: 0.1968 - accuracy: 0.9343\n",
      "Epoch 543/750\n",
      "1563/1563 [==============================] - 15s 9ms/step - loss: 0.1846 - accuracy: 0.9377\n",
      "Epoch 544/750\n",
      "1563/1563 [==============================] - 15s 9ms/step - loss: 0.1888 - accuracy: 0.9350\n",
      "Epoch 545/750\n",
      "1563/1563 [==============================] - 15s 9ms/step - loss: 0.1914 - accuracy: 0.9344\n",
      "Epoch 546/750\n",
      "1563/1563 [==============================] - 15s 9ms/step - loss: 0.1917 - accuracy: 0.9341\n",
      "Epoch 547/750\n",
      "1563/1563 [==============================] - 15s 9ms/step - loss: 0.1817 - accuracy: 0.9371\n",
      "Epoch 548/750\n",
      "1563/1563 [==============================] - 15s 9ms/step - loss: 0.1888 - accuracy: 0.9355\n",
      "Epoch 549/750\n",
      "1563/1563 [==============================] - 15s 9ms/step - loss: 0.1937 - accuracy: 0.9349\n",
      "Epoch 550/750\n",
      "1563/1563 [==============================] - 15s 9ms/step - loss: 0.1894 - accuracy: 0.9351\n",
      "Epoch 551/750\n",
      "1563/1563 [==============================] - 15s 9ms/step - loss: 0.1868 - accuracy: 0.9357\n",
      "Epoch 552/750\n",
      "1563/1563 [==============================] - 15s 9ms/step - loss: 0.1889 - accuracy: 0.9354\n",
      "Epoch 553/750\n",
      "1563/1563 [==============================] - 15s 9ms/step - loss: 0.1846 - accuracy: 0.9360\n",
      "Epoch 554/750\n",
      "1563/1563 [==============================] - 15s 9ms/step - loss: 0.1931 - accuracy: 0.9348\n",
      "Epoch 555/750\n",
      "1563/1563 [==============================] - 15s 9ms/step - loss: 0.1767 - accuracy: 0.9389\n",
      "Epoch 556/750\n",
      "1563/1563 [==============================] - 15s 9ms/step - loss: 0.2007 - accuracy: 0.9325\n",
      "Epoch 557/750\n",
      "1563/1563 [==============================] - 15s 9ms/step - loss: 0.1904 - accuracy: 0.9352\n",
      "Epoch 558/750\n",
      "1563/1563 [==============================] - 15s 9ms/step - loss: 0.1868 - accuracy: 0.9359\n",
      "Epoch 559/750\n",
      "1563/1563 [==============================] - 15s 9ms/step - loss: 0.1812 - accuracy: 0.9372\n",
      "Epoch 560/750\n",
      "1563/1563 [==============================] - 15s 9ms/step - loss: 0.1902 - accuracy: 0.9347\n",
      "Epoch 561/750\n",
      "1563/1563 [==============================] - 15s 9ms/step - loss: 0.1884 - accuracy: 0.9354\n",
      "Epoch 562/750\n",
      "1563/1563 [==============================] - 15s 9ms/step - loss: 0.1982 - accuracy: 0.9335\n",
      "Epoch 563/750\n",
      "1563/1563 [==============================] - 15s 9ms/step - loss: 0.1844 - accuracy: 0.9364\n",
      "Epoch 564/750\n",
      "1563/1563 [==============================] - 15s 9ms/step - loss: 0.1877 - accuracy: 0.9350\n",
      "Epoch 565/750\n",
      "1563/1563 [==============================] - 15s 9ms/step - loss: 0.1933 - accuracy: 0.9331\n",
      "Epoch 566/750\n",
      "1563/1563 [==============================] - 15s 9ms/step - loss: 0.1827 - accuracy: 0.9366\n",
      "Epoch 567/750\n",
      "1563/1563 [==============================] - 15s 9ms/step - loss: 0.2047 - accuracy: 0.9318\n",
      "Epoch 568/750\n",
      "1563/1563 [==============================] - 15s 9ms/step - loss: 0.1731 - accuracy: 0.9397\n",
      "Epoch 569/750\n",
      "1563/1563 [==============================] - 15s 9ms/step - loss: 0.1916 - accuracy: 0.9334\n",
      "Epoch 570/750\n",
      "1563/1563 [==============================] - 15s 9ms/step - loss: 0.1901 - accuracy: 0.9351\n",
      "Epoch 571/750\n",
      "1563/1563 [==============================] - 15s 9ms/step - loss: 0.1841 - accuracy: 0.9369\n",
      "Epoch 572/750\n",
      "1563/1563 [==============================] - 15s 9ms/step - loss: 0.1845 - accuracy: 0.9365\n",
      "Epoch 573/750\n",
      "1563/1563 [==============================] - 15s 9ms/step - loss: 0.1802 - accuracy: 0.9376\n",
      "Epoch 574/750\n",
      "1563/1563 [==============================] - 15s 9ms/step - loss: 0.1915 - accuracy: 0.9354\n",
      "Epoch 575/750\n",
      "1563/1563 [==============================] - 15s 9ms/step - loss: 0.1990 - accuracy: 0.9333\n",
      "Epoch 576/750\n",
      "1563/1563 [==============================] - 15s 9ms/step - loss: 0.1837 - accuracy: 0.9367\n",
      "Epoch 577/750\n",
      "1563/1563 [==============================] - 15s 9ms/step - loss: 0.1850 - accuracy: 0.9371\n",
      "Epoch 578/750\n",
      "1563/1563 [==============================] - 15s 9ms/step - loss: 0.1969 - accuracy: 0.9334\n",
      "Epoch 579/750\n",
      "1563/1563 [==============================] - 15s 9ms/step - loss: 0.1755 - accuracy: 0.9401\n",
      "Epoch 580/750\n",
      "1563/1563 [==============================] - 15s 9ms/step - loss: 0.1881 - accuracy: 0.9362\n",
      "Epoch 581/750\n",
      "1563/1563 [==============================] - 15s 9ms/step - loss: 0.2024 - accuracy: 0.9324\n",
      "Epoch 582/750\n",
      "1563/1563 [==============================] - 15s 9ms/step - loss: 0.1755 - accuracy: 0.9395\n",
      "Epoch 583/750\n",
      "1563/1563 [==============================] - 15s 9ms/step - loss: 0.2016 - accuracy: 0.9323\n",
      "Epoch 584/750\n",
      "1563/1563 [==============================] - 15s 9ms/step - loss: 0.1737 - accuracy: 0.9391\n",
      "Epoch 585/750\n",
      "1563/1563 [==============================] - 15s 9ms/step - loss: 0.2007 - accuracy: 0.9327\n",
      "Epoch 586/750\n",
      "1563/1563 [==============================] - 15s 9ms/step - loss: 0.1864 - accuracy: 0.9359\n",
      "Epoch 587/750\n",
      "1563/1563 [==============================] - 15s 9ms/step - loss: 0.1871 - accuracy: 0.9359\n",
      "Epoch 588/750\n",
      "1563/1563 [==============================] - 15s 9ms/step - loss: 0.1855 - accuracy: 0.9361\n",
      "Epoch 589/750\n",
      "1563/1563 [==============================] - 15s 9ms/step - loss: 0.1897 - accuracy: 0.9353\n",
      "Epoch 590/750\n",
      "1563/1563 [==============================] - 15s 9ms/step - loss: 0.1852 - accuracy: 0.9365\n",
      "Epoch 591/750\n",
      "1563/1563 [==============================] - 15s 9ms/step - loss: 0.1911 - accuracy: 0.9350\n",
      "Epoch 592/750\n",
      "1563/1563 [==============================] - 15s 9ms/step - loss: 0.1875 - accuracy: 0.9370\n",
      "Epoch 593/750\n",
      "1563/1563 [==============================] - 15s 9ms/step - loss: 0.1875 - accuracy: 0.9359\n",
      "Epoch 594/750\n",
      "1563/1563 [==============================] - 15s 9ms/step - loss: 0.1987 - accuracy: 0.9330\n",
      "Epoch 595/750\n",
      "1563/1563 [==============================] - 15s 9ms/step - loss: 0.1825 - accuracy: 0.9384\n",
      "Epoch 596/750\n",
      "1563/1563 [==============================] - 15s 9ms/step - loss: 0.1878 - accuracy: 0.9350\n",
      "Epoch 597/750\n",
      "1563/1563 [==============================] - 15s 9ms/step - loss: 0.1864 - accuracy: 0.9374\n",
      "Epoch 598/750\n",
      "1563/1563 [==============================] - 15s 9ms/step - loss: 0.1875 - accuracy: 0.9348\n",
      "Epoch 599/750\n",
      "1563/1563 [==============================] - 15s 9ms/step - loss: 0.1823 - accuracy: 0.9377\n",
      "Epoch 600/750\n",
      "1563/1563 [==============================] - 15s 9ms/step - loss: 0.1894 - accuracy: 0.9340\n",
      "Epoch 601/750\n",
      "1563/1563 [==============================] - 15s 9ms/step - loss: 0.1865 - accuracy: 0.9359\n",
      "Epoch 602/750\n",
      "1563/1563 [==============================] - 15s 9ms/step - loss: 0.1889 - accuracy: 0.9356\n",
      "Epoch 603/750\n",
      "1563/1563 [==============================] - 15s 9ms/step - loss: 0.1893 - accuracy: 0.9369\n",
      "Epoch 604/750\n",
      "1563/1563 [==============================] - 15s 9ms/step - loss: 0.1760 - accuracy: 0.9395\n",
      "Epoch 605/750\n",
      "1563/1563 [==============================] - 15s 9ms/step - loss: 0.1974 - accuracy: 0.9335\n",
      "Epoch 606/750\n",
      "1563/1563 [==============================] - 15s 9ms/step - loss: 0.1935 - accuracy: 0.9337\n",
      "Epoch 607/750\n",
      "1563/1563 [==============================] - 15s 9ms/step - loss: 0.1823 - accuracy: 0.9373\n",
      "Epoch 608/750\n",
      "1563/1563 [==============================] - 15s 9ms/step - loss: 0.1884 - accuracy: 0.9360\n",
      "Epoch 609/750\n",
      "1563/1563 [==============================] - 15s 9ms/step - loss: 0.1882 - accuracy: 0.9367\n",
      "Epoch 610/750\n",
      "1563/1563 [==============================] - 15s 9ms/step - loss: 0.1832 - accuracy: 0.9379\n",
      "Epoch 611/750\n",
      "1563/1563 [==============================] - 15s 9ms/step - loss: 0.1949 - accuracy: 0.9333\n",
      "Epoch 612/750\n",
      "1563/1563 [==============================] - 15s 9ms/step - loss: 0.1750 - accuracy: 0.9409\n",
      "Epoch 613/750\n",
      "1563/1563 [==============================] - 15s 9ms/step - loss: 0.1869 - accuracy: 0.9352\n",
      "Epoch 614/750\n",
      "1563/1563 [==============================] - 15s 9ms/step - loss: 0.1807 - accuracy: 0.9382\n",
      "Epoch 615/750\n",
      "1563/1563 [==============================] - 15s 9ms/step - loss: 0.1951 - accuracy: 0.9346\n",
      "Epoch 616/750\n",
      "1563/1563 [==============================] - 15s 9ms/step - loss: 0.1810 - accuracy: 0.9379\n",
      "Epoch 617/750\n"
     ]
    },
    {
     "name": "stdout",
     "output_type": "stream",
     "text": [
      "1563/1563 [==============================] - 15s 9ms/step - loss: 0.1792 - accuracy: 0.9390\n",
      "Epoch 618/750\n",
      "1563/1563 [==============================] - 15s 9ms/step - loss: 0.1910 - accuracy: 0.9358\n",
      "Epoch 619/750\n",
      "1563/1563 [==============================] - 15s 9ms/step - loss: 0.1829 - accuracy: 0.9382\n",
      "Epoch 620/750\n",
      "1563/1563 [==============================] - 15s 9ms/step - loss: 0.1799 - accuracy: 0.9386\n",
      "Epoch 621/750\n",
      "1563/1563 [==============================] - 15s 9ms/step - loss: 0.1918 - accuracy: 0.9359\n",
      "Epoch 622/750\n",
      "1563/1563 [==============================] - 15s 9ms/step - loss: 0.1897 - accuracy: 0.9366\n",
      "Epoch 623/750\n",
      "1563/1563 [==============================] - 15s 9ms/step - loss: 0.1815 - accuracy: 0.9378\n",
      "Epoch 624/750\n",
      "1563/1563 [==============================] - 15s 9ms/step - loss: 0.1824 - accuracy: 0.9389\n",
      "Epoch 625/750\n",
      "1563/1563 [==============================] - 15s 9ms/step - loss: 0.1805 - accuracy: 0.9386\n",
      "Epoch 626/750\n",
      "1563/1563 [==============================] - 15s 9ms/step - loss: 0.1887 - accuracy: 0.9377\n",
      "Epoch 627/750\n",
      "1563/1563 [==============================] - 15s 9ms/step - loss: 0.1813 - accuracy: 0.9393\n",
      "Epoch 628/750\n",
      "1563/1563 [==============================] - 15s 9ms/step - loss: 0.1886 - accuracy: 0.9365\n",
      "Epoch 629/750\n",
      "1563/1563 [==============================] - 15s 9ms/step - loss: 0.1765 - accuracy: 0.9405\n",
      "Epoch 630/750\n",
      "1563/1563 [==============================] - 15s 9ms/step - loss: 0.1779 - accuracy: 0.9389\n",
      "Epoch 631/750\n",
      "1563/1563 [==============================] - 15s 9ms/step - loss: 0.2007 - accuracy: 0.9339\n",
      "Epoch 632/750\n",
      "1563/1563 [==============================] - 15s 9ms/step - loss: 0.1855 - accuracy: 0.9374\n",
      "Epoch 633/750\n",
      "1563/1563 [==============================] - 15s 9ms/step - loss: 0.1876 - accuracy: 0.9376\n",
      "Epoch 634/750\n",
      "1563/1563 [==============================] - 15s 9ms/step - loss: 0.1957 - accuracy: 0.9350\n",
      "Epoch 635/750\n",
      "1563/1563 [==============================] - 15s 9ms/step - loss: 0.1765 - accuracy: 0.9399\n",
      "Epoch 636/750\n",
      "1563/1563 [==============================] - 15s 9ms/step - loss: 0.1967 - accuracy: 0.9331\n",
      "Epoch 637/750\n",
      "1563/1563 [==============================] - 15s 9ms/step - loss: 0.1737 - accuracy: 0.9407\n",
      "Epoch 638/750\n",
      "1563/1563 [==============================] - 15s 9ms/step - loss: 0.1987 - accuracy: 0.9344\n",
      "Epoch 639/750\n",
      "1563/1563 [==============================] - 15s 9ms/step - loss: 0.1847 - accuracy: 0.9370\n",
      "Epoch 640/750\n",
      "1563/1563 [==============================] - 15s 9ms/step - loss: 0.1900 - accuracy: 0.9357\n",
      "Epoch 641/750\n",
      "1563/1563 [==============================] - 15s 9ms/step - loss: 0.1764 - accuracy: 0.9390\n",
      "Epoch 642/750\n",
      "1563/1563 [==============================] - 15s 9ms/step - loss: 0.1883 - accuracy: 0.9365\n",
      "Epoch 643/750\n",
      "1563/1563 [==============================] - 15s 9ms/step - loss: 0.1782 - accuracy: 0.9390\n",
      "Epoch 644/750\n",
      "1563/1563 [==============================] - 15s 9ms/step - loss: 0.1837 - accuracy: 0.9379\n",
      "Epoch 645/750\n",
      "1563/1563 [==============================] - 15s 9ms/step - loss: 0.1923 - accuracy: 0.9361\n",
      "Epoch 646/750\n",
      "1563/1563 [==============================] - 15s 9ms/step - loss: 0.1896 - accuracy: 0.9369\n",
      "Epoch 647/750\n",
      "1563/1563 [==============================] - 15s 9ms/step - loss: 0.1787 - accuracy: 0.9383\n",
      "Epoch 648/750\n",
      "1563/1563 [==============================] - 15s 9ms/step - loss: 0.1826 - accuracy: 0.9372\n",
      "Epoch 649/750\n",
      "1563/1563 [==============================] - 15s 9ms/step - loss: 0.1855 - accuracy: 0.9383\n",
      "Epoch 650/750\n",
      "1563/1563 [==============================] - 15s 9ms/step - loss: 0.1990 - accuracy: 0.9342\n",
      "Epoch 651/750\n",
      "1563/1563 [==============================] - 15s 9ms/step - loss: 0.1725 - accuracy: 0.9407\n",
      "Epoch 652/750\n",
      "1563/1563 [==============================] - 15s 9ms/step - loss: 0.1859 - accuracy: 0.9372\n",
      "Epoch 653/750\n",
      "1563/1563 [==============================] - 15s 9ms/step - loss: 0.1855 - accuracy: 0.9379\n",
      "Epoch 654/750\n",
      "1563/1563 [==============================] - 15s 9ms/step - loss: 0.1952 - accuracy: 0.9342\n",
      "Epoch 655/750\n",
      "1563/1563 [==============================] - 15s 9ms/step - loss: 0.1758 - accuracy: 0.9406\n",
      "Epoch 656/750\n",
      "1563/1563 [==============================] - 15s 9ms/step - loss: 0.1809 - accuracy: 0.9387\n",
      "Epoch 657/750\n",
      "1563/1563 [==============================] - 15s 9ms/step - loss: 0.1860 - accuracy: 0.9385\n",
      "Epoch 658/750\n",
      "1563/1563 [==============================] - 15s 9ms/step - loss: 0.1892 - accuracy: 0.9376\n",
      "Epoch 659/750\n",
      "1563/1563 [==============================] - 15s 9ms/step - loss: 0.1829 - accuracy: 0.9381\n",
      "Epoch 660/750\n",
      "1563/1563 [==============================] - 15s 9ms/step - loss: 0.1827 - accuracy: 0.9381\n",
      "Epoch 661/750\n",
      "1563/1563 [==============================] - 15s 9ms/step - loss: 0.1851 - accuracy: 0.9378\n",
      "Epoch 662/750\n",
      "1563/1563 [==============================] - 15s 9ms/step - loss: 0.1830 - accuracy: 0.9382\n",
      "Epoch 663/750\n",
      "1563/1563 [==============================] - 15s 9ms/step - loss: 0.1889 - accuracy: 0.9346\n",
      "Epoch 664/750\n",
      "1563/1563 [==============================] - 15s 9ms/step - loss: 0.1842 - accuracy: 0.9378\n",
      "Epoch 665/750\n",
      "1563/1563 [==============================] - 15s 9ms/step - loss: 0.1886 - accuracy: 0.9383\n",
      "Epoch 666/750\n",
      "1563/1563 [==============================] - 15s 9ms/step - loss: 0.1825 - accuracy: 0.9392\n",
      "Epoch 667/750\n",
      "1563/1563 [==============================] - 15s 9ms/step - loss: 0.1864 - accuracy: 0.9385\n",
      "Epoch 668/750\n",
      "1563/1563 [==============================] - 15s 9ms/step - loss: 0.1878 - accuracy: 0.9368\n",
      "Epoch 669/750\n",
      "1563/1563 [==============================] - 15s 9ms/step - loss: 0.1810 - accuracy: 0.9388\n",
      "Epoch 670/750\n",
      "1563/1563 [==============================] - 15s 9ms/step - loss: 0.1871 - accuracy: 0.9370\n",
      "Epoch 671/750\n",
      "1563/1563 [==============================] - 15s 9ms/step - loss: 0.1920 - accuracy: 0.9369\n",
      "Epoch 672/750\n",
      "1563/1563 [==============================] - 15s 9ms/step - loss: 0.1779 - accuracy: 0.9397\n",
      "Epoch 673/750\n",
      "1563/1563 [==============================] - 15s 9ms/step - loss: 0.1778 - accuracy: 0.9403\n",
      "Epoch 674/750\n",
      "1563/1563 [==============================] - 15s 9ms/step - loss: 0.1815 - accuracy: 0.9391\n",
      "Epoch 675/750\n",
      "1563/1563 [==============================] - 15s 9ms/step - loss: 0.1899 - accuracy: 0.9376\n",
      "Epoch 676/750\n",
      "1563/1563 [==============================] - 15s 9ms/step - loss: 0.1955 - accuracy: 0.9356\n",
      "Epoch 677/750\n",
      "1563/1563 [==============================] - 15s 9ms/step - loss: 0.1846 - accuracy: 0.9381\n",
      "Epoch 678/750\n",
      "1563/1563 [==============================] - 15s 9ms/step - loss: 0.1728 - accuracy: 0.9420\n",
      "Epoch 679/750\n",
      "1563/1563 [==============================] - 15s 9ms/step - loss: 0.1907 - accuracy: 0.9369\n",
      "Epoch 680/750\n",
      "1563/1563 [==============================] - 15s 9ms/step - loss: 0.1892 - accuracy: 0.9382\n",
      "Epoch 681/750\n",
      "1563/1563 [==============================] - 15s 9ms/step - loss: 0.1859 - accuracy: 0.9368\n",
      "Epoch 682/750\n",
      "1563/1563 [==============================] - 15s 9ms/step - loss: 0.1794 - accuracy: 0.9385\n",
      "Epoch 683/750\n",
      "1563/1563 [==============================] - 15s 9ms/step - loss: 0.1889 - accuracy: 0.9382\n",
      "Epoch 684/750\n",
      "1563/1563 [==============================] - 15s 9ms/step - loss: 0.1789 - accuracy: 0.9398\n",
      "Epoch 685/750\n",
      "1563/1563 [==============================] - 15s 9ms/step - loss: 0.1863 - accuracy: 0.9375\n",
      "Epoch 686/750\n",
      "1563/1563 [==============================] - 15s 9ms/step - loss: 0.1785 - accuracy: 0.9399\n",
      "Epoch 687/750\n",
      "1563/1563 [==============================] - 15s 9ms/step - loss: 0.1983 - accuracy: 0.9353\n",
      "Epoch 688/750\n",
      "1563/1563 [==============================] - 15s 9ms/step - loss: 0.1755 - accuracy: 0.9403\n",
      "Epoch 689/750\n",
      "1563/1563 [==============================] - 15s 9ms/step - loss: 0.1751 - accuracy: 0.9418\n",
      "Epoch 690/750\n",
      "1563/1563 [==============================] - 15s 9ms/step - loss: 0.1874 - accuracy: 0.9380\n",
      "Epoch 691/750\n",
      "1563/1563 [==============================] - 15s 9ms/step - loss: 0.1878 - accuracy: 0.9377\n",
      "Epoch 692/750\n",
      "1563/1563 [==============================] - 15s 9ms/step - loss: 0.1819 - accuracy: 0.9400\n",
      "Epoch 693/750\n",
      "1563/1563 [==============================] - 15s 9ms/step - loss: 0.1786 - accuracy: 0.9390\n",
      "Epoch 694/750\n"
     ]
    },
    {
     "name": "stdout",
     "output_type": "stream",
     "text": [
      "1563/1563 [==============================] - 15s 9ms/step - loss: 0.1833 - accuracy: 0.9392\n",
      "Epoch 695/750\n",
      "1563/1563 [==============================] - 15s 9ms/step - loss: 0.1844 - accuracy: 0.9396\n",
      "Epoch 696/750\n",
      "1563/1563 [==============================] - 15s 9ms/step - loss: 0.1929 - accuracy: 0.9369\n",
      "Epoch 697/750\n",
      "1563/1563 [==============================] - 15s 9ms/step - loss: 0.1855 - accuracy: 0.9388\n",
      "Epoch 698/750\n",
      "1563/1563 [==============================] - 15s 9ms/step - loss: 0.1752 - accuracy: 0.9406\n",
      "Epoch 699/750\n",
      "1563/1563 [==============================] - 15s 9ms/step - loss: 0.1861 - accuracy: 0.9375\n",
      "Epoch 700/750\n",
      "1563/1563 [==============================] - 15s 9ms/step - loss: 0.1786 - accuracy: 0.9399\n",
      "Epoch 701/750\n",
      "1563/1563 [==============================] - 15s 9ms/step - loss: 0.1840 - accuracy: 0.9376\n",
      "Epoch 702/750\n",
      "1563/1563 [==============================] - 15s 9ms/step - loss: 0.1782 - accuracy: 0.9407\n",
      "Epoch 703/750\n",
      "1563/1563 [==============================] - 15s 9ms/step - loss: 0.1867 - accuracy: 0.9381\n",
      "Epoch 704/750\n",
      "1563/1563 [==============================] - 15s 9ms/step - loss: 0.1788 - accuracy: 0.9401\n",
      "Epoch 705/750\n",
      "1563/1563 [==============================] - 15s 9ms/step - loss: 0.1909 - accuracy: 0.9374\n",
      "Epoch 706/750\n",
      "1563/1563 [==============================] - 15s 9ms/step - loss: 0.1858 - accuracy: 0.9377\n",
      "Epoch 707/750\n",
      "1563/1563 [==============================] - 15s 9ms/step - loss: 0.1821 - accuracy: 0.9397\n",
      "Epoch 708/750\n",
      "1563/1563 [==============================] - 15s 9ms/step - loss: 0.1813 - accuracy: 0.9392\n",
      "Epoch 709/750\n",
      "1563/1563 [==============================] - 15s 9ms/step - loss: 0.1869 - accuracy: 0.9384\n",
      "Epoch 710/750\n",
      "1563/1563 [==============================] - 15s 9ms/step - loss: 0.1916 - accuracy: 0.9368\n",
      "Epoch 711/750\n",
      "1563/1563 [==============================] - 15s 9ms/step - loss: 0.1894 - accuracy: 0.9377\n",
      "Epoch 712/750\n",
      "1563/1563 [==============================] - 15s 9ms/step - loss: 0.1781 - accuracy: 0.9400\n",
      "Epoch 713/750\n",
      "1563/1563 [==============================] - 15s 9ms/step - loss: 0.1826 - accuracy: 0.9397\n",
      "Epoch 714/750\n",
      "1563/1563 [==============================] - 15s 9ms/step - loss: 0.1898 - accuracy: 0.9367\n",
      "Epoch 715/750\n",
      "1563/1563 [==============================] - 15s 9ms/step - loss: 0.1828 - accuracy: 0.9389\n",
      "Epoch 716/750\n",
      "1563/1563 [==============================] - 15s 9ms/step - loss: 0.1791 - accuracy: 0.9388\n",
      "Epoch 717/750\n",
      "1563/1563 [==============================] - 15s 9ms/step - loss: 0.1867 - accuracy: 0.9390\n",
      "Epoch 718/750\n",
      "1563/1563 [==============================] - 15s 9ms/step - loss: 0.1922 - accuracy: 0.9358\n",
      "Epoch 719/750\n",
      "1563/1563 [==============================] - 15s 9ms/step - loss: 0.1671 - accuracy: 0.9438\n",
      "Epoch 720/750\n",
      "1563/1563 [==============================] - 15s 9ms/step - loss: 0.1930 - accuracy: 0.9360\n",
      "Epoch 721/750\n",
      "1563/1563 [==============================] - 15s 9ms/step - loss: 0.1826 - accuracy: 0.9384\n",
      "Epoch 722/750\n",
      "1563/1563 [==============================] - 15s 9ms/step - loss: 0.1805 - accuracy: 0.9402\n",
      "Epoch 723/750\n",
      "1563/1563 [==============================] - 15s 9ms/step - loss: 0.1837 - accuracy: 0.9391\n",
      "Epoch 724/750\n",
      "1563/1563 [==============================] - 15s 9ms/step - loss: 0.1840 - accuracy: 0.9390\n",
      "Epoch 725/750\n",
      "1563/1563 [==============================] - 15s 9ms/step - loss: 0.1786 - accuracy: 0.9397\n",
      "Epoch 726/750\n",
      "1563/1563 [==============================] - 15s 9ms/step - loss: 0.1908 - accuracy: 0.9385\n",
      "Epoch 727/750\n",
      "1563/1563 [==============================] - 15s 9ms/step - loss: 0.1778 - accuracy: 0.9407\n",
      "Epoch 728/750\n",
      "1563/1563 [==============================] - 15s 9ms/step - loss: 0.1844 - accuracy: 0.9386\n",
      "Epoch 729/750\n",
      "1563/1563 [==============================] - 15s 9ms/step - loss: 0.1796 - accuracy: 0.9395\n",
      "Epoch 730/750\n",
      "1563/1563 [==============================] - 15s 9ms/step - loss: 0.1856 - accuracy: 0.9385\n",
      "Epoch 731/750\n",
      "1563/1563 [==============================] - 15s 9ms/step - loss: 0.1901 - accuracy: 0.9378\n",
      "Epoch 732/750\n",
      "1563/1563 [==============================] - 15s 9ms/step - loss: 0.1892 - accuracy: 0.9378\n",
      "Epoch 733/750\n",
      "1563/1563 [==============================] - 15s 9ms/step - loss: 0.1701 - accuracy: 0.9424\n",
      "Epoch 734/750\n",
      "1563/1563 [==============================] - 15s 9ms/step - loss: 0.1838 - accuracy: 0.9392\n",
      "Epoch 735/750\n",
      "1563/1563 [==============================] - 15s 9ms/step - loss: 0.1908 - accuracy: 0.9381\n",
      "Epoch 736/750\n",
      "1563/1563 [==============================] - 15s 9ms/step - loss: 0.1693 - accuracy: 0.9435\n",
      "Epoch 737/750\n",
      "1563/1563 [==============================] - 15s 9ms/step - loss: 0.1834 - accuracy: 0.9387\n",
      "Epoch 738/750\n",
      "1563/1563 [==============================] - 15s 9ms/step - loss: 0.1863 - accuracy: 0.9370\n",
      "Epoch 739/750\n",
      "1563/1563 [==============================] - 15s 9ms/step - loss: 0.1793 - accuracy: 0.9411\n",
      "Epoch 740/750\n",
      "1563/1563 [==============================] - 15s 9ms/step - loss: 0.1863 - accuracy: 0.9389\n",
      "Epoch 741/750\n",
      "1563/1563 [==============================] - 15s 9ms/step - loss: 0.1819 - accuracy: 0.9395\n",
      "Epoch 742/750\n",
      "1563/1563 [==============================] - 15s 9ms/step - loss: 0.1870 - accuracy: 0.9390\n",
      "Epoch 743/750\n",
      "1563/1563 [==============================] - 15s 9ms/step - loss: 0.1751 - accuracy: 0.9409\n",
      "Epoch 744/750\n",
      "1563/1563 [==============================] - 15s 9ms/step - loss: 0.1839 - accuracy: 0.9392\n",
      "Epoch 745/750\n",
      "1563/1563 [==============================] - 15s 9ms/step - loss: 0.1813 - accuracy: 0.9388\n",
      "Epoch 746/750\n",
      "1563/1563 [==============================] - 15s 9ms/step - loss: 0.1889 - accuracy: 0.9376\n",
      "Epoch 747/750\n",
      "1563/1563 [==============================] - 15s 9ms/step - loss: 0.1770 - accuracy: 0.9395\n",
      "Epoch 748/750\n",
      "1563/1563 [==============================] - 15s 9ms/step - loss: 0.1931 - accuracy: 0.9371\n",
      "Epoch 749/750\n",
      "1563/1563 [==============================] - 15s 9ms/step - loss: 0.1687 - accuracy: 0.9429\n",
      "Epoch 750/750\n",
      "1563/1563 [==============================] - 15s 9ms/step - loss: 0.1880 - accuracy: 0.9394\n"
     ]
    },
    {
     "data": {
      "text/plain": [
       "<keras.callbacks.History at 0x7fd148e877c0>"
      ]
     },
     "execution_count": 19,
     "metadata": {},
     "output_type": "execute_result"
    }
   ],
   "source": [
    "cnn.fit(train_img, train_label, epochs=750)"
   ]
  },
  {
   "cell_type": "markdown",
   "id": "87896c83",
   "metadata": {},
   "source": [
    "#### With CNN, at the end 5 epochs, accuracy was at around 75% which is a significant improvement over ANN. CNN's are best for image classification and gives superb accuracy. Also computation is much less compared to simple ANN as maxpooling reduces the image dimensions while still preserving the features"
   ]
  },
  {
   "cell_type": "markdown",
   "id": "f39425b9",
   "metadata": {},
   "source": [
    "## Saving trained model"
   ]
  },
  {
   "cell_type": "code",
   "execution_count": 20,
   "id": "b6aab739",
   "metadata": {},
   "outputs": [
    {
     "name": "stderr",
     "output_type": "stream",
     "text": [
      "WARNING:absl:Found untraced functions such as _jit_compiled_convolution_op, _jit_compiled_convolution_op, _jit_compiled_convolution_op while saving (showing 3 of 3). These functions will not be directly callable after loading.\n"
     ]
    },
    {
     "name": "stdout",
     "output_type": "stream",
     "text": [
      "INFO:tensorflow:Assets written to: ram://5b0a0d3a-10d5-4016-9698-c70225e1231d/assets\n"
     ]
    },
    {
     "name": "stderr",
     "output_type": "stream",
     "text": [
      "INFO:tensorflow:Assets written to: ram://5b0a0d3a-10d5-4016-9698-c70225e1231d/assets\n"
     ]
    }
   ],
   "source": [
    "# save the model to disk\n",
    "filename = 'finalized_model.sav'\n",
    "pickle.dump(cnn, open(filename, 'wb'))"
   ]
  },
  {
   "cell_type": "markdown",
   "id": "58e8850b",
   "metadata": {},
   "source": [
    "## load the saved model"
   ]
  },
  {
   "cell_type": "code",
   "execution_count": 21,
   "id": "15465427",
   "metadata": {},
   "outputs": [],
   "source": [
    "loaded_model = pickle.load(open(filename, 'rb'))"
   ]
  },
  {
   "cell_type": "markdown",
   "id": "c4280160",
   "metadata": {},
   "source": [
    "## Predicting test_img"
   ]
  },
  {
   "cell_type": "code",
   "execution_count": 22,
   "id": "1f0b4549",
   "metadata": {},
   "outputs": [
    {
     "name": "stdout",
     "output_type": "stream",
     "text": [
      "313/313 [==============================] - 1s 3ms/step\n"
     ]
    },
    {
     "data": {
      "text/plain": [
       "array([[5.17720415e-11, 7.45865788e-15, 1.63468489e-04, 9.06347454e-01,\n",
       "        1.38096565e-12, 7.20307753e-07, 9.34882164e-02, 4.46573507e-12,\n",
       "        6.48870184e-08, 2.42599506e-13],\n",
       "       [6.02750379e-23, 9.99999940e-01, 9.49080953e-38, 1.27364712e-33,\n",
       "        0.00000000e+00, 0.00000000e+00, 0.00000000e+00, 0.00000000e+00,\n",
       "        9.89735405e-10, 7.75297231e-23],\n",
       "       [6.14401142e-06, 9.84992312e-06, 1.93829605e-10, 3.23699197e-07,\n",
       "        7.87135062e-18, 1.55160183e-15, 2.20702037e-12, 8.20557408e-14,\n",
       "        9.99983490e-01, 6.25330046e-08],\n",
       "       [8.63152381e-05, 4.29050240e-10, 1.16300944e-13, 4.47960126e-19,\n",
       "        6.11184085e-22, 2.24544586e-30, 6.91119418e-20, 0.00000000e+00,\n",
       "        9.99913633e-01, 3.11862931e-11],\n",
       "       [2.12263313e-18, 1.23180668e-13, 3.76778735e-05, 1.14632414e-04,\n",
       "        9.97002423e-01, 7.34859071e-08, 2.84520537e-03, 4.56571198e-10,\n",
       "        1.48422019e-12, 3.45929611e-13]], dtype=float32)"
      ]
     },
     "execution_count": 22,
     "metadata": {},
     "output_type": "execute_result"
    }
   ],
   "source": [
    "pred_label = cnn.predict(test_img)\n",
    "pred_label[:5]"
   ]
  },
  {
   "cell_type": "code",
   "execution_count": 23,
   "id": "c5c61c8e",
   "metadata": {},
   "outputs": [
    {
     "data": {
      "text/plain": [
       "[3, 1, 8, 8, 4]"
      ]
     },
     "execution_count": 23,
     "metadata": {},
     "output_type": "execute_result"
    }
   ],
   "source": [
    "classes_label = [np.argmax(element) for element in pred_label]\n",
    "classes_label[:5]"
   ]
  },
  {
   "cell_type": "markdown",
   "id": "ccc44de7",
   "metadata": {},
   "source": [
    "## Calculating Accuracy"
   ]
  },
  {
   "cell_type": "code",
   "execution_count": 24,
   "id": "17cc6b32",
   "metadata": {},
   "outputs": [
    {
     "data": {
      "text/plain": [
       "0.6436"
      ]
     },
     "execution_count": 24,
     "metadata": {},
     "output_type": "execute_result"
    }
   ],
   "source": [
    "from sklearn.metrics import accuracy_score\n",
    "accuracy_score(test_label, classes_label)"
   ]
  },
  {
   "cell_type": "markdown",
   "id": "21a146a6",
   "metadata": {},
   "source": [
    "## Evaluating CNN model"
   ]
  },
  {
   "cell_type": "code",
   "execution_count": 25,
   "id": "23fc139a",
   "metadata": {},
   "outputs": [
    {
     "name": "stdout",
     "output_type": "stream",
     "text": [
      "313/313 [==============================] - 1s 3ms/step - loss: 4.3668 - accuracy: 0.6436\n"
     ]
    },
    {
     "data": {
      "text/plain": [
       "[4.3667802810668945, 0.6435999870300293]"
      ]
     },
     "execution_count": 25,
     "metadata": {},
     "output_type": "execute_result"
    }
   ],
   "source": [
    "cnn.evaluate(test_img, test_label)"
   ]
  },
  {
   "cell_type": "code",
   "execution_count": 26,
   "id": "473bcd2f",
   "metadata": {},
   "outputs": [
    {
     "data": {
      "text/plain": [
       "array([[3],\n",
       "       [8],\n",
       "       [8],\n",
       "       [0],\n",
       "       [6]], dtype=uint8)"
      ]
     },
     "execution_count": 26,
     "metadata": {},
     "output_type": "execute_result"
    }
   ],
   "source": [
    "test_label[:5]"
   ]
  },
  {
   "cell_type": "code",
   "execution_count": 27,
   "id": "dd76aa79",
   "metadata": {},
   "outputs": [
    {
     "data": {
      "text/plain": [
       "array([3, 8, 8, 0, 6], dtype=uint8)"
      ]
     },
     "execution_count": 27,
     "metadata": {},
     "output_type": "execute_result"
    }
   ],
   "source": [
    "test_label = test_label.reshape(-1)\n",
    "test_label[:5]"
   ]
  },
  {
   "cell_type": "markdown",
   "id": "eb5ca3f6",
   "metadata": {},
   "source": [
    "## Taking predictions randomly"
   ]
  },
  {
   "cell_type": "code",
   "execution_count": 28,
   "id": "583c9a61",
   "metadata": {},
   "outputs": [
    {
     "name": "stdout",
     "output_type": "stream",
     "text": [
      "Prediction is: bird \n",
      " Accuracy is 64.36\n"
     ]
    },
    {
     "data": {
      "image/png": "[encoded data removed]",
      "text/plain": [
       "<Figure size 1080x144 with 1 Axes>"
      ]
     },
     "metadata": {
      "needs_background": "light"
     },
     "output_type": "display_data"
    }
   ],
   "source": [
    "ind = random.randint(0, 10000)\n",
    "plot_sample(test_img, test_label, ind)\n",
    "print(f\"Prediction is: {classes[classes_label[ind]]} \\n Accuracy is {accuracy_score(test_label, classes_label)*100}\")"
   ]
  },
  {
   "cell_type": "markdown",
   "id": "e3805e1b",
   "metadata": {},
   "source": [
    "## Taking predictions in outside image"
   ]
  },
  {
   "cell_type": "code",
   "execution_count": 29,
   "id": "465e37b4",
   "metadata": {},
   "outputs": [],
   "source": [
    "import cv2"
   ]
  },
  {
   "cell_type": "code",
   "execution_count": 30,
   "id": "03523d55",
   "metadata": {},
   "outputs": [
    {
     "data": {
      "text/plain": [
       "<matplotlib.image.AxesImage at 0x7fd0a80f4a60>"
      ]
     },
     "execution_count": 30,
     "metadata": {},
     "output_type": "execute_result"
    },
    {
     "data": {
      "image/png": "[encoded data removed]",
      "text/plain": [
       "<Figure size 432x288 with 1 Axes>"
      ]
     },
     "metadata": {
      "needs_background": "light"
     },
     "output_type": "display_data"
    }
   ],
   "source": [
    "path = '/home/user/Documents/Image Processing/Artificial Neural Network/CIFAR10/Data/horse03.jpg'\n",
    "new_img = cv2.imread(path)\n",
    "plt.imshow(new_img)"
   ]
  },
  {
   "cell_type": "markdown",
   "id": "d5d8687e",
   "metadata": {},
   "source": [
    "## Reshaping image"
   ]
  },
  {
   "cell_type": "code",
   "execution_count": 31,
   "id": "3511908b",
   "metadata": {},
   "outputs": [],
   "source": [
    "new_img = new_img.reshape(-1, 32, 32, 3)"
   ]
  },
  {
   "cell_type": "markdown",
   "id": "fea73a27",
   "metadata": {},
   "source": [
    "## Prediction and verifying image"
   ]
  },
  {
   "cell_type": "code",
   "execution_count": 32,
   "id": "d48cd9c1",
   "metadata": {},
   "outputs": [
    {
     "name": "stdout",
     "output_type": "stream",
     "text": [
      "1/1 [==============================] - 0s 47ms/step\n"
     ]
    }
   ],
   "source": [
    "pred_label = cnn.predict(new_img)"
   ]
  },
  {
   "cell_type": "code",
   "execution_count": 33,
   "id": "57a4eadd",
   "metadata": {},
   "outputs": [
    {
     "name": "stdout",
     "output_type": "stream",
     "text": [
      "1\n"
     ]
    }
   ],
   "source": [
    "classes_label = np.argmax(pred_label)\n",
    "print(classes_label)"
   ]
  },
  {
   "cell_type": "code",
   "execution_count": 34,
   "id": "7478d686",
   "metadata": {},
   "outputs": [
    {
     "data": {
      "text/plain": [
       "'automobile'"
      ]
     },
     "execution_count": 34,
     "metadata": {},
     "output_type": "execute_result"
    }
   ],
   "source": [
    "classes[classes_label]"
   ]
  },
  {
   "cell_type": "code",
   "execution_count": null,
   "id": "fc547bed",
   "metadata": {},
   "outputs": [],
   "source": []
  },
  {
   "cell_type": "code",
   "execution_count": null,
   "id": "6df33aa2",
   "metadata": {},
   "outputs": [],
   "source": []
  }
 ],
 "metadata": {
  "kernelspec": {
   "display_name": "Python 3 (ipykernel)",
   "language": "python",
   "name": "python3"
  },
  "language_info": {
   "codemirror_mode": {
    "name": "ipython",
    "version": 3
   },
   "file_extension": ".py",
   "mimetype": "text/x-python",
   "name": "python",
   "nbconvert_exporter": "python",
   "pygments_lexer": "ipython3",
   "version": "3.8.10"
  }
 },
 "nbformat": 4,
 "nbformat_minor": 5
}

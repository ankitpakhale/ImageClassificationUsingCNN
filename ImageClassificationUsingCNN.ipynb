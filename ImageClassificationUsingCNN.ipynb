{
 "cells": [
  {
   "cell_type": "markdown",
   "id": "0443136e",
   "metadata": {},
   "source": [
    "## <font color='#008000'>Required imports</font> "
   ]
  },
  {
   "cell_type": "code",
   "execution_count": 1,
   "id": "9ac47364",
   "metadata": {},
   "outputs": [
    {
     "name": "stderr",
     "output_type": "stream",
     "text": [
      "2022-08-26 17:53:28.504737: W tensorflow/stream_executor/platform/default/dso_loader.cc:64] Could not load dynamic library 'libcudart.so.11.0'; dlerror: libcudart.so.11.0: cannot open shared object file: No such file or directory\n",
      "2022-08-26 17:53:28.504762: I tensorflow/stream_executor/cuda/cudart_stub.cc:29] Ignore above cudart dlerror if you do not have a GPU set up on your machine.\n"
     ]
    }
   ],
   "source": [
    "import tensorflow as tf\n",
    "from tensorflow.keras import datasets, layers, models\n",
    "import matplotlib.pyplot as plt\n",
    "import numpy as np\n",
    "import random\n",
    "\n",
    "import pickle"
   ]
  },
  {
   "cell_type": "markdown",
   "id": "d99efcc1",
   "metadata": {},
   "source": [
    "## Load the dataset "
   ]
  },
  {
   "cell_type": "markdown",
   "id": "6eeaa22d",
   "metadata": {},
   "source": [
    "X = img, y = label"
   ]
  },
  {
   "cell_type": "code",
   "execution_count": 2,
   "id": "c8b5e297",
   "metadata": {},
   "outputs": [],
   "source": [
    "(train_img, train_label), (test_img, test_label) = datasets.cifar10.load_data()"
   ]
  },
  {
   "cell_type": "code",
   "execution_count": 3,
   "id": "d8878c65",
   "metadata": {},
   "outputs": [
    {
     "data": {
      "text/plain": [
       "(50000, 32, 32, 3)"
      ]
     },
     "execution_count": 3,
     "metadata": {},
     "output_type": "execute_result"
    }
   ],
   "source": [
    "train_img.shape"
   ]
  },
  {
   "cell_type": "code",
   "execution_count": 4,
   "id": "435c203b",
   "metadata": {},
   "outputs": [
    {
     "data": {
      "text/plain": [
       "(10000, 32, 32, 3)"
      ]
     },
     "execution_count": 4,
     "metadata": {},
     "output_type": "execute_result"
    }
   ],
   "source": [
    "test_img.shape"
   ]
  },
  {
   "cell_type": "markdown",
   "id": "20890924",
   "metadata": {},
   "source": [
    "Here we see there are 50000 training images and 10000 test images"
   ]
  },
  {
   "cell_type": "markdown",
   "id": "c12a6ff4",
   "metadata": {},
   "source": [
    "  "
   ]
  },
  {
   "cell_type": "markdown",
   "id": "f48aafd0",
   "metadata": {},
   "source": [
    " "
   ]
  },
  {
   "cell_type": "code",
   "execution_count": 5,
   "id": "1ba1a17f",
   "metadata": {},
   "outputs": [
    {
     "data": {
      "text/plain": [
       "(50000, 1)"
      ]
     },
     "execution_count": 5,
     "metadata": {},
     "output_type": "execute_result"
    }
   ],
   "source": [
    "train_label.shape"
   ]
  },
  {
   "cell_type": "code",
   "execution_count": 6,
   "id": "d46de16a",
   "metadata": {},
   "outputs": [
    {
     "data": {
      "text/plain": [
       "array([[6],\n",
       "       [9],\n",
       "       [9],\n",
       "       [4],\n",
       "       [1]], dtype=uint8)"
      ]
     },
     "execution_count": 6,
     "metadata": {},
     "output_type": "execute_result"
    }
   ],
   "source": [
    "train_label[:5]"
   ]
  },
  {
   "cell_type": "markdown",
   "id": "a1268615",
   "metadata": {},
   "source": [
    "train_label is a 2D array, for our classification having 1D array is good enough. so we will convert this to now 1D array"
   ]
  },
  {
   "cell_type": "code",
   "execution_count": 7,
   "id": "1366bf38",
   "metadata": {},
   "outputs": [
    {
     "data": {
      "text/plain": [
       "array([6, 9, 9, 4, 1], dtype=uint8)"
      ]
     },
     "execution_count": 7,
     "metadata": {},
     "output_type": "execute_result"
    }
   ],
   "source": [
    "train_label = train_label.reshape(-1)\n",
    "train_label[:5]"
   ]
  },
  {
   "cell_type": "code",
   "execution_count": 8,
   "id": "3d21313e",
   "metadata": {},
   "outputs": [],
   "source": [
    "classes = [\"airplane\",\"automobile\",\"bird\",\"cat\",\"deer\",\"dog\",\"frog\",\"horse\",\"ship\",\"truck\"]"
   ]
  },
  {
   "cell_type": "markdown",
   "id": "6ae7e049",
   "metadata": {},
   "source": [
    "## Plotting some images to see what they are "
   ]
  },
  {
   "cell_type": "code",
   "execution_count": 9,
   "id": "6462caa0",
   "metadata": {},
   "outputs": [],
   "source": [
    "def plot_sample(img, label, index):\n",
    "    plt.figure(figsize = (15, 2))\n",
    "    plt.imshow(img[index])\n",
    "    plt.xlabel(classes[label[index]])"
   ]
  },
  {
   "cell_type": "code",
   "execution_count": 10,
   "id": "8c9d84c7",
   "metadata": {},
   "outputs": [
    {
     "data": {
      "image/png": "[encoded data removed]",
      "text/plain": [
       "<Figure size 1080x144 with 1 Axes>"
      ]
     },
     "metadata": {
      "needs_background": "light"
     },
     "output_type": "display_data"
    }
   ],
   "source": [
    "plot_sample(train_img, train_label, 0)"
   ]
  },
  {
   "cell_type": "code",
   "execution_count": 11,
   "id": "ebdfc85f",
   "metadata": {},
   "outputs": [
    {
     "data": {
      "image/png": "[encoded data removed]",
      "text/plain": [
       "<Figure size 1080x144 with 1 Axes>"
      ]
     },
     "metadata": {
      "needs_background": "light"
     },
     "output_type": "display_data"
    }
   ],
   "source": [
    "plot_sample(train_img, train_label, 1)"
   ]
  },
  {
   "cell_type": "markdown",
   "id": "f5b5f3a6",
   "metadata": {},
   "source": [
    "Normalize the images to a number from 0 to 1. Image has 3 channels (R,G,B) and each value in the channel can range from 0 to 255. Hence to normalize in 0-->1 range, we need to divide it by 255"
   ]
  },
  {
   "cell_type": "markdown",
   "id": "6d7a864b",
   "metadata": {},
   "source": [
    "## Normalize the training data"
   ]
  },
  {
   "cell_type": "code",
   "execution_count": 12,
   "id": "bfa344a2",
   "metadata": {},
   "outputs": [],
   "source": [
    "train_img = train_img / 255\n",
    "test_img = test_img /255"
   ]
  },
  {
   "cell_type": "markdown",
   "id": "8f470d0b",
   "metadata": {},
   "source": [
    "# Here we will perform classification with ANN and CNN, to see the difference in accuracy."
   ]
  },
  {
   "cell_type": "markdown",
   "id": "0b56e737",
   "metadata": {},
   "source": [
    "### Building Artificial Neural Network for image classification"
   ]
  },
  {
   "cell_type": "code",
   "execution_count": 13,
   "id": "1a04ff03",
   "metadata": {},
   "outputs": [],
   "source": [
    "# ann = models.Sequential([\n",
    "#         layers.Flatten(input_shape=(32,32,3)),\n",
    "#         layers.Dense(3000, activation='relu'),\n",
    "#         layers.Dense(1000, activation='relu'),\n",
    "#         layers.Dense(10, activation='softmax')    \n",
    "# ])"
   ]
  },
  {
   "cell_type": "markdown",
   "id": "ebb0b4d4",
   "metadata": {},
   "source": [
    "## Compiling Artificial Neural Network"
   ]
  },
  {
   "cell_type": "code",
   "execution_count": 14,
   "id": "30b6f2b9",
   "metadata": {},
   "outputs": [],
   "source": [
    "# ann.compile(optimizer = 'SGD',\n",
    "#            loss = 'sparse_categorical_crossentropy',\n",
    "#             metrics = ['accuracy'])"
   ]
  },
  {
   "cell_type": "markdown",
   "id": "89f27d49",
   "metadata": {},
   "source": [
    "## Training Artificial Neural Network  "
   ]
  },
  {
   "cell_type": "code",
   "execution_count": 15,
   "id": "78d5bf95",
   "metadata": {},
   "outputs": [],
   "source": [
    "# ann.fit(train_img, train_label, epochs = 3)"
   ]
  },
  {
   "cell_type": "markdown",
   "id": "53847609",
   "metadata": {},
   "source": [
    "You can see that at the end of 5 epochs, accuracy is at around %48"
   ]
  },
  {
   "cell_type": "code",
   "execution_count": 16,
   "id": "12f1a13f",
   "metadata": {},
   "outputs": [],
   "source": [
    "# from sklearn.metrics import confusion_matrix , classification_report\n",
    "# import numpy as np\n",
    "\n",
    "# pred_label = ann.predict(test_img)\n",
    "# pred_label_classes = [np.argmax(element) for element in pred_label]\n",
    "\n",
    "# print(\"Classification Report: \\n\", classification_report(test_label, pred_label_classes))"
   ]
  },
  {
   "cell_type": "markdown",
   "id": "55a9ad76",
   "metadata": {},
   "source": [
    "### Building Convolutional neural network for image classification"
   ]
  },
  {
   "cell_type": "code",
   "execution_count": 17,
   "id": "905360c9",
   "metadata": {},
   "outputs": [
    {
     "name": "stderr",
     "output_type": "stream",
     "text": [
      "2022-08-26 17:53:31.020094: W tensorflow/stream_executor/platform/default/dso_loader.cc:64] Could not load dynamic library 'libcuda.so.1'; dlerror: libcuda.so.1: cannot open shared object file: No such file or directory\n",
      "2022-08-26 17:53:31.020114: W tensorflow/stream_executor/cuda/cuda_driver.cc:269] failed call to cuInit: UNKNOWN ERROR (303)\n",
      "2022-08-26 17:53:31.020127: I tensorflow/stream_executor/cuda/cuda_diagnostics.cc:156] kernel driver does not appear to be running on this host (user-H410M-H-V3): /proc/driver/nvidia/version does not exist\n",
      "2022-08-26 17:53:31.020275: I tensorflow/core/platform/cpu_feature_guard.cc:193] This TensorFlow binary is optimized with oneAPI Deep Neural Network Library (oneDNN) to use the following CPU instructions in performance-critical operations:  AVX2 FMA\n",
      "To enable them in other operations, rebuild TensorFlow with the appropriate compiler flags.\n"
     ]
    }
   ],
   "source": [
    "cnn = models.Sequential([\n",
    "    \n",
    "    # This is the first convolutional layer with max pooling, we can use as many as possible according to need, also we can use average pooling   \n",
    "    layers.Conv2D(filters=32, kernel_size=(3, 3), activation='relu', input_shape=(32, 32, 3)),\n",
    "    layers.MaxPooling2D((2, 2)),    \n",
    "    \n",
    "    # This is the second convolutional layer with max pooling\n",
    "    layers.Conv2D(filters=32, kernel_size=(3, 3), activation='relu'),\n",
    "    layers.MaxPooling2D((2, 2)), \n",
    "        \n",
    "    \n",
    "    layers.Flatten(),\n",
    "    # Here we don't need to make extra dense layer because we have used cnn above, it will optimize it automatically     \n",
    "    layers.Dense(64, activation='relu'),\n",
    "    layers.Dense(10, activation='softmax')    \n",
    "\n",
    "])"
   ]
  },
  {
   "cell_type": "markdown",
   "id": "4ddb7540",
   "metadata": {},
   "source": [
    "## Compiling Convolutional Neural Network "
   ]
  },
  {
   "cell_type": "code",
   "execution_count": 18,
   "id": "8b6aebf0",
   "metadata": {},
   "outputs": [],
   "source": [
    "cnn.compile(optimizer='adam',\n",
    "           loss='sparse_categorical_crossentropy',\n",
    "           metrics=['accuracy'])"
   ]
  },
  {
   "cell_type": "markdown",
   "id": "ccee37ac",
   "metadata": {},
   "source": [
    "## Training Convolutional Neural Network "
   ]
  },
  {
   "cell_type": "code",
   "execution_count": 19,
   "id": "056fdbf2",
   "metadata": {},
   "outputs": [
    {
     "name": "stdout",
     "output_type": "stream",
     "text": [
      "Epoch 1/5\n"
     ]
    },
    {
     "name": "stderr",
     "output_type": "stream",
     "text": [
      "2022-08-26 17:53:31.422870: W tensorflow/core/framework/cpu_allocator_impl.cc:82] Allocation of 614400000 exceeds 10% of free system memory.\n"
     ]
    },
    {
     "name": "stdout",
     "output_type": "stream",
     "text": [
      "1563/1563 [==============================] - 17s 11ms/step - loss: 1.4709 - accuracy: 0.4741\n",
      "Epoch 2/5\n",
      "1563/1563 [==============================] - 17s 11ms/step - loss: 1.1501 - accuracy: 0.5965\n",
      "Epoch 3/5\n",
      "1563/1563 [==============================] - 16s 10ms/step - loss: 1.0295 - accuracy: 0.6411\n",
      "Epoch 4/5\n",
      "1563/1563 [==============================] - 16s 10ms/step - loss: 0.9460 - accuracy: 0.6695\n",
      "Epoch 5/5\n",
      "1563/1563 [==============================] - 16s 10ms/step - loss: 0.8844 - accuracy: 0.6891\n"
     ]
    },
    {
     "data": {
      "text/plain": [
       "<keras.callbacks.History at 0x7fc639d31430>"
      ]
     },
     "execution_count": 19,
     "metadata": {},
     "output_type": "execute_result"
    }
   ],
   "source": [
    "cnn.fit(train_img, train_label, epochs=5)"
   ]
  },
  {
   "cell_type": "markdown",
   "id": "87896c83",
   "metadata": {},
   "source": [
    "#### With CNN, at the end 5 epochs, accuracy was at around 75% which is a significant improvement over ANN. CNN's are best for image classification and gives superb accuracy. Also computation is much less compared to simple ANN as maxpooling reduces the image dimensions while still preserving the features"
   ]
  },
  {
   "cell_type": "markdown",
   "id": "c0ef6455",
   "metadata": {},
   "source": [
    "## Saving trained model"
   ]
  },
  {
   "cell_type": "code",
   "execution_count": 20,
   "id": "aeec4dc1",
   "metadata": {},
   "outputs": [
    {
     "name": "stderr",
     "output_type": "stream",
     "text": [
      "WARNING:absl:Found untraced functions such as _jit_compiled_convolution_op, _jit_compiled_convolution_op while saving (showing 2 of 2). These functions will not be directly callable after loading.\n"
     ]
    },
    {
     "name": "stdout",
     "output_type": "stream",
     "text": [
      "INFO:tensorflow:Assets written to: ram://2cac32d1-eef8-4f20-8acd-4437e832b426/assets\n"
     ]
    },
    {
     "name": "stderr",
     "output_type": "stream",
     "text": [
      "INFO:tensorflow:Assets written to: ram://2cac32d1-eef8-4f20-8acd-4437e832b426/assets\n"
     ]
    }
   ],
   "source": [
    "# save the model to disk\n",
    "filename = 'finalized_model.sav'\n",
    "pickle.dump(cnn, open(filename, 'wb'))"
   ]
  },
  {
   "cell_type": "markdown",
   "id": "aa2cf195",
   "metadata": {},
   "source": [
    "## load the saved model"
   ]
  },
  {
   "cell_type": "code",
   "execution_count": 21,
   "id": "9f6d487d",
   "metadata": {},
   "outputs": [],
   "source": [
    "loaded_model = pickle.load(open(filename, 'rb'))"
   ]
  },
  {
   "cell_type": "markdown",
   "id": "c4280160",
   "metadata": {},
   "source": [
    "## Predicting test_img"
   ]
  },
  {
   "cell_type": "code",
   "execution_count": 22,
   "id": "1f0b4549",
   "metadata": {},
   "outputs": [
    {
     "name": "stdout",
     "output_type": "stream",
     "text": [
      "313/313 [==============================] - 1s 3ms/step\n"
     ]
    },
    {
     "data": {
      "text/plain": [
       "array([[2.96175433e-03, 1.36976119e-03, 2.48684231e-02, 4.61637110e-01,\n",
       "        9.84799350e-04, 1.33512124e-01, 1.15724824e-01, 7.35707406e-04,\n",
       "        2.57526606e-01, 6.78880024e-04],\n",
       "       [7.42369965e-02, 1.14907838e-01, 1.83694952e-04, 7.58209808e-06,\n",
       "        4.46856848e-06, 2.17002452e-07, 3.32827028e-07, 6.69380370e-07,\n",
       "        7.98279762e-01, 1.23784514e-02],\n",
       "       [1.49206147e-01, 1.68763325e-01, 2.15035607e-03, 7.51411775e-03,\n",
       "        2.14729249e-03, 1.53031654e-03, 1.30216463e-03, 5.43290167e-04,\n",
       "        6.16164088e-01, 5.06789833e-02],\n",
       "       [3.83913577e-01, 2.85688601e-02, 4.65818308e-02, 1.34241930e-03,\n",
       "        7.40054250e-03, 2.75854927e-05, 3.72065319e-04, 3.20199848e-04,\n",
       "        5.31347692e-01, 1.25215331e-04],\n",
       "       [8.68595744e-05, 3.62931081e-04, 2.72064023e-02, 6.61893487e-02,\n",
       "        3.01676929e-01, 1.38279898e-02, 5.89088321e-01, 9.71671776e-04,\n",
       "        5.36544423e-04, 5.30447724e-05]], dtype=float32)"
      ]
     },
     "execution_count": 22,
     "metadata": {},
     "output_type": "execute_result"
    }
   ],
   "source": [
    "pred_label = cnn.predict(test_img)\n",
    "pred_label[:5]"
   ]
  },
  {
   "cell_type": "code",
   "execution_count": 23,
   "id": "c5c61c8e",
   "metadata": {},
   "outputs": [
    {
     "data": {
      "text/plain": [
       "[3, 8, 8, 8, 6]"
      ]
     },
     "execution_count": 23,
     "metadata": {},
     "output_type": "execute_result"
    }
   ],
   "source": [
    "classes_label = [np.argmax(element) for element in pred_label]\n",
    "classes_label[:5]"
   ]
  },
  {
   "cell_type": "markdown",
   "id": "9bcdb30c",
   "metadata": {},
   "source": [
    "## Calculating Accuracy"
   ]
  },
  {
   "cell_type": "code",
   "execution_count": 24,
   "id": "76877ffe",
   "metadata": {},
   "outputs": [
    {
     "data": {
      "text/plain": [
       "0.6767"
      ]
     },
     "execution_count": 24,
     "metadata": {},
     "output_type": "execute_result"
    }
   ],
   "source": [
    "from sklearn.metrics import accuracy_score\n",
    "accuracy_score(test_label, classes_label)"
   ]
  },
  {
   "cell_type": "markdown",
   "id": "b478a1ce",
   "metadata": {},
   "source": [
    "## Evaluating CNN model"
   ]
  },
  {
   "cell_type": "code",
   "execution_count": 25,
   "id": "247f1b46",
   "metadata": {},
   "outputs": [
    {
     "name": "stdout",
     "output_type": "stream",
     "text": [
      "313/313 [==============================] - 1s 3ms/step - loss: 0.9289 - accuracy: 0.6767\n"
     ]
    },
    {
     "data": {
      "text/plain": [
       "[0.9289208054542542, 0.6766999959945679]"
      ]
     },
     "execution_count": 25,
     "metadata": {},
     "output_type": "execute_result"
    }
   ],
   "source": [
    "cnn.evaluate(test_img, test_label)"
   ]
  },
  {
   "cell_type": "code",
   "execution_count": 26,
   "id": "473bcd2f",
   "metadata": {},
   "outputs": [
    {
     "data": {
      "text/plain": [
       "array([[3],\n",
       "       [8],\n",
       "       [8],\n",
       "       [0],\n",
       "       [6]], dtype=uint8)"
      ]
     },
     "execution_count": 26,
     "metadata": {},
     "output_type": "execute_result"
    }
   ],
   "source": [
    "test_label[:5]"
   ]
  },
  {
   "cell_type": "code",
   "execution_count": 27,
   "id": "dd76aa79",
   "metadata": {},
   "outputs": [
    {
     "data": {
      "text/plain": [
       "array([3, 8, 8, 0, 6], dtype=uint8)"
      ]
     },
     "execution_count": 27,
     "metadata": {},
     "output_type": "execute_result"
    }
   ],
   "source": [
    "test_label = test_label.reshape(-1)\n",
    "test_label[:5]"
   ]
  },
  {
   "cell_type": "markdown",
   "id": "0173c918",
   "metadata": {},
   "source": [
    "## Taking predictions randomly"
   ]
  },
  {
   "cell_type": "code",
   "execution_count": 28,
   "id": "583c9a61",
   "metadata": {},
   "outputs": [
    {
     "name": "stdout",
     "output_type": "stream",
     "text": [
      "Prediction is: airplane \n",
      " Accuracy is 67.67\n"
     ]
    },
    {
     "data": {
      "image/png": "[encoded data removed]",
      "text/plain": [
       "<Figure size 1080x144 with 1 Axes>"
      ]
     },
     "metadata": {
      "needs_background": "light"
     },
     "output_type": "display_data"
    }
   ],
   "source": [
    "ind = random.randint(0, 10000)\n",
    "plot_sample(test_img, test_label, ind)\n",
    "print(f\"Prediction is: {classes[classes_label[ind]]} \\n Accuracy is {accuracy_score(test_label, classes_label)*100}\")"
   ]
  },
  {
   "cell_type": "markdown",
   "id": "e342e10f",
   "metadata": {},
   "source": [
    "## Taking predictions in outside image"
   ]
  },
  {
   "cell_type": "code",
   "execution_count": 29,
   "id": "c501e924",
   "metadata": {},
   "outputs": [],
   "source": [
    "import cv2"
   ]
  },
  {
   "cell_type": "code",
   "execution_count": 30,
   "id": "926ebe6b",
   "metadata": {},
   "outputs": [
    {
     "data": {
      "text/plain": [
       "<matplotlib.image.AxesImage at 0x7fc5e0627790>"
      ]
     },
     "execution_count": 30,
     "metadata": {},
     "output_type": "execute_result"
    },
    {
     "data": {
      "image/png": "[encoded data removed]",
      "text/plain": [
       "<Figure size 432x288 with 1 Axes>"
      ]
     },
     "metadata": {
      "needs_background": "light"
     },
     "output_type": "display_data"
    }
   ],
   "source": [
    "path = '/home/user/Documents/Image Processing/Artificial Neural Network/CIFAR10/Data/horse03.jpg'\n",
    "new_img = cv2.imread(path)\n",
    "plt.imshow(new_img)"
   ]
  },
  {
   "cell_type": "markdown",
   "id": "7fbe4993",
   "metadata": {},
   "source": [
    "## Reshaping image"
   ]
  },
  {
   "cell_type": "code",
   "execution_count": 31,
   "id": "19dcfd0b",
   "metadata": {},
   "outputs": [],
   "source": [
    "new_img = new_img.reshape(-1, 32, 32, 3)"
   ]
  },
  {
   "cell_type": "markdown",
   "id": "b9988067",
   "metadata": {},
   "source": [
    "## Prediction and verifying image"
   ]
  },
  {
   "cell_type": "code",
   "execution_count": 32,
   "id": "e1ac10c0",
   "metadata": {},
   "outputs": [
    {
     "name": "stdout",
     "output_type": "stream",
     "text": [
      "1/1 [==============================] - 0s 45ms/step\n"
     ]
    }
   ],
   "source": [
    "pred_label = cnn.predict(new_img)"
   ]
  },
  {
   "cell_type": "code",
   "execution_count": 33,
   "id": "ddc05de8",
   "metadata": {},
   "outputs": [
    {
     "name": "stdout",
     "output_type": "stream",
     "text": [
      "1\n"
     ]
    }
   ],
   "source": [
    "classes_label = np.argmax(pred_label)\n",
    "print(classes_label)"
   ]
  },
  {
   "cell_type": "code",
   "execution_count": 34,
   "id": "d16d722f",
   "metadata": {},
   "outputs": [
    {
     "data": {
      "text/plain": [
       "'automobile'"
      ]
     },
     "execution_count": 34,
     "metadata": {},
     "output_type": "execute_result"
    }
   ],
   "source": [
    "classes[classes_label]"
   ]
  },
  {
   "cell_type": "code",
   "execution_count": null,
   "id": "7fdf4d36",
   "metadata": {},
   "outputs": [],
   "source": []
  },
  {
   "cell_type": "code",
   "execution_count": null,
   "id": "fda68cea",
   "metadata": {},
   "outputs": [],
   "source": []
  }
 ],
 "metadata": {
  "kernelspec": {
   "display_name": "Python 3 (ipykernel)",
   "language": "python",
   "name": "python3"
  },
  "language_info": {
   "codemirror_mode": {
    "name": "ipython",
    "version": 3
   },
   "file_extension": ".py",
   "mimetype": "text/x-python",
   "name": "python",
   "nbconvert_exporter": "python",
   "pygments_lexer": "ipython3",
   "version": "3.8.10"
  }
 },
 "nbformat": 4,
 "nbformat_minor": 5
}
